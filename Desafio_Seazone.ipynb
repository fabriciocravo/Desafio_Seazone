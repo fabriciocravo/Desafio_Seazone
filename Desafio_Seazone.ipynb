{
 "cells": [
  {
   "cell_type": "markdown",
   "metadata": {},
   "source": [
    "# Esse é o código para resolução do desafio Seazone\n",
    "\n",
    "Ele consiste na análise de dados imobiliários.\n",
    "\n",
    "O Jupyter Notebook foi a ferramenta escolhida pela clareza do código e facilidade na visualização dos dados."
   ]
  },
  {
   "cell_type": "markdown",
   "metadata": {},
   "source": [
    "<h3> Começamos importando os módulos necessários em Python </h3>"
   ]
  },
  {
   "cell_type": "code",
   "execution_count": 1,
   "metadata": {},
   "outputs": [],
   "source": [
    "# Descomente e execute os comandos abaixo se o codigo não funcionar\n",
    "\n",
    "# !pip install pandas\n",
    "# !pip install numpy\n",
    "# !pip install datetime\n",
    "# !pip install matplotlib"
   ]
  },
  {
   "cell_type": "code",
   "execution_count": 2,
   "metadata": {},
   "outputs": [],
   "source": [
    "import pandas as pd # Representação dos dados\n",
    "import numpy as np # Calculos numericos e estatisticos\n",
    "import datetime # Facilitar os calculos envolvendo datas\n",
    "import matplotlib.pyplot as plt # Metodos para visualização dos dados"
   ]
  },
  {
   "cell_type": "markdown",
   "metadata": {},
   "source": [
    "O primeiro passo é abrir os arquivos .csv e representá-los na forma de um dataframe em Pandas"
   ]
  },
  {
   "cell_type": "code",
   "execution_count": 3,
   "metadata": {},
   "outputs": [],
   "source": [
    "diretorio_dados1 = \"./Data/desafio_details (1).csv\"\n",
    "diretorio_dados2 = \"./Data/desafio_priceav (1).csv\"\n",
    "\n",
    "data_details = pd.read_csv(diretorio_dados1)\n",
    "data_listings = pd.read_csv(diretorio_dados2)"
   ]
  },
  {
   "cell_type": "markdown",
   "metadata": {},
   "source": [
    "Agora a visualização inicial dos dataframes"
   ]
  },
  {
   "cell_type": "code",
   "execution_count": 4,
   "metadata": {},
   "outputs": [
    {
     "name": "stdout",
     "output_type": "stream",
     "text": [
      "Dataset detais\n"
     ]
    },
    {
     "data": {
      "text/html": [
       "<div>\n",
       "<style scoped>\n",
       "    .dataframe tbody tr th:only-of-type {\n",
       "        vertical-align: middle;\n",
       "    }\n",
       "\n",
       "    .dataframe tbody tr th {\n",
       "        vertical-align: top;\n",
       "    }\n",
       "\n",
       "    .dataframe thead th {\n",
       "        text-align: right;\n",
       "    }\n",
       "</style>\n",
       "<table border=\"1\" class=\"dataframe\">\n",
       "  <thead>\n",
       "    <tr style=\"text-align: right;\">\n",
       "      <th></th>\n",
       "      <th>Unnamed: 0</th>\n",
       "      <th>airbnb_listing_id</th>\n",
       "      <th>suburb</th>\n",
       "      <th>ad_name</th>\n",
       "      <th>number_of_bedrooms</th>\n",
       "      <th>number_of_bathrooms</th>\n",
       "      <th>star_rating</th>\n",
       "      <th>is_superhost</th>\n",
       "      <th>number_of_reviews</th>\n",
       "    </tr>\n",
       "  </thead>\n",
       "  <tbody>\n",
       "    <tr>\n",
       "      <th>0</th>\n",
       "      <td>0</td>\n",
       "      <td>31389869</td>\n",
       "      <td>Jurerê</td>\n",
       "      <td>Lindo Apartamento em Jurerê</td>\n",
       "      <td>2.0</td>\n",
       "      <td>2.0</td>\n",
       "      <td>5.0</td>\n",
       "      <td>False</td>\n",
       "      <td>15.0</td>\n",
       "    </tr>\n",
       "    <tr>\n",
       "      <th>1</th>\n",
       "      <td>1</td>\n",
       "      <td>40010667</td>\n",
       "      <td>Canasvieiras</td>\n",
       "      <td>Residencial Arruda, 1 quarto</td>\n",
       "      <td>1.0</td>\n",
       "      <td>1.0</td>\n",
       "      <td>NaN</td>\n",
       "      <td>False</td>\n",
       "      <td>0.0</td>\n",
       "    </tr>\n",
       "    <tr>\n",
       "      <th>2</th>\n",
       "      <td>2</td>\n",
       "      <td>38905997</td>\n",
       "      <td>Ingleses</td>\n",
       "      <td>Apartamento NOVO Completo - Moderno e Sofisticado</td>\n",
       "      <td>1.0</td>\n",
       "      <td>1.0</td>\n",
       "      <td>4.5</td>\n",
       "      <td>True</td>\n",
       "      <td>13.0</td>\n",
       "    </tr>\n",
       "    <tr>\n",
       "      <th>3</th>\n",
       "      <td>3</td>\n",
       "      <td>22343656</td>\n",
       "      <td>Ingleses</td>\n",
       "      <td>06- Apartamento 02 habitaciones</td>\n",
       "      <td>2.0</td>\n",
       "      <td>1.0</td>\n",
       "      <td>5.0</td>\n",
       "      <td>True</td>\n",
       "      <td>28.0</td>\n",
       "    </tr>\n",
       "    <tr>\n",
       "      <th>4</th>\n",
       "      <td>4</td>\n",
       "      <td>18328184</td>\n",
       "      <td>Canasvieiras</td>\n",
       "      <td>Apto 2 quartos em Canasvieiras, Florianopolis!</td>\n",
       "      <td>2.0</td>\n",
       "      <td>1.0</td>\n",
       "      <td>5.0</td>\n",
       "      <td>True</td>\n",
       "      <td>35.0</td>\n",
       "    </tr>\n",
       "  </tbody>\n",
       "</table>\n",
       "</div>"
      ],
      "text/plain": [
       "   Unnamed: 0  airbnb_listing_id        suburb  \\\n",
       "0           0           31389869        Jurerê   \n",
       "1           1           40010667  Canasvieiras   \n",
       "2           2           38905997      Ingleses   \n",
       "3           3           22343656      Ingleses   \n",
       "4           4           18328184  Canasvieiras   \n",
       "\n",
       "                                             ad_name  number_of_bedrooms  \\\n",
       "0                        Lindo Apartamento em Jurerê                 2.0   \n",
       "1                       Residencial Arruda, 1 quarto                 1.0   \n",
       "2  Apartamento NOVO Completo - Moderno e Sofisticado                 1.0   \n",
       "3                    06- Apartamento 02 habitaciones                 2.0   \n",
       "4     Apto 2 quartos em Canasvieiras, Florianopolis!                 2.0   \n",
       "\n",
       "   number_of_bathrooms  star_rating  is_superhost  number_of_reviews  \n",
       "0                  2.0          5.0         False               15.0  \n",
       "1                  1.0          NaN         False                0.0  \n",
       "2                  1.0          4.5          True               13.0  \n",
       "3                  1.0          5.0          True               28.0  \n",
       "4                  1.0          5.0          True               35.0  "
      ]
     },
     "execution_count": 4,
     "metadata": {},
     "output_type": "execute_result"
    }
   ],
   "source": [
    "print(\"Dataset detais\")\n",
    "data_details.head()"
   ]
  },
  {
   "cell_type": "code",
   "execution_count": 5,
   "metadata": {},
   "outputs": [
    {
     "name": "stdout",
     "output_type": "stream",
     "text": [
      "Dataset Price\n"
     ]
    },
    {
     "data": {
      "text/html": [
       "<div>\n",
       "<style scoped>\n",
       "    .dataframe tbody tr th:only-of-type {\n",
       "        vertical-align: middle;\n",
       "    }\n",
       "\n",
       "    .dataframe tbody tr th {\n",
       "        vertical-align: top;\n",
       "    }\n",
       "\n",
       "    .dataframe thead th {\n",
       "        text-align: right;\n",
       "    }\n",
       "</style>\n",
       "<table border=\"1\" class=\"dataframe\">\n",
       "  <thead>\n",
       "    <tr style=\"text-align: right;\">\n",
       "      <th></th>\n",
       "      <th>Unnamed: 0</th>\n",
       "      <th>Unnamed: 0.1</th>\n",
       "      <th>airbnb_listing_id</th>\n",
       "      <th>booked_on</th>\n",
       "      <th>date</th>\n",
       "      <th>price_string</th>\n",
       "      <th>occupied</th>\n",
       "    </tr>\n",
       "  </thead>\n",
       "  <tbody>\n",
       "    <tr>\n",
       "      <th>0</th>\n",
       "      <td>0</td>\n",
       "      <td>2148</td>\n",
       "      <td>40201349</td>\n",
       "      <td>blank</td>\n",
       "      <td>2020-11-15</td>\n",
       "      <td>250.0</td>\n",
       "      <td>0</td>\n",
       "    </tr>\n",
       "    <tr>\n",
       "      <th>1</th>\n",
       "      <td>1</td>\n",
       "      <td>2159</td>\n",
       "      <td>40201349</td>\n",
       "      <td>blank</td>\n",
       "      <td>2020-11-26</td>\n",
       "      <td>250.0</td>\n",
       "      <td>0</td>\n",
       "    </tr>\n",
       "    <tr>\n",
       "      <th>2</th>\n",
       "      <td>2</td>\n",
       "      <td>2160</td>\n",
       "      <td>40201349</td>\n",
       "      <td>blank</td>\n",
       "      <td>2020-11-27</td>\n",
       "      <td>250.0</td>\n",
       "      <td>0</td>\n",
       "    </tr>\n",
       "    <tr>\n",
       "      <th>3</th>\n",
       "      <td>3</td>\n",
       "      <td>2173</td>\n",
       "      <td>40201349</td>\n",
       "      <td>blank</td>\n",
       "      <td>2020-12-10</td>\n",
       "      <td>250.0</td>\n",
       "      <td>0</td>\n",
       "    </tr>\n",
       "    <tr>\n",
       "      <th>4</th>\n",
       "      <td>4</td>\n",
       "      <td>2226</td>\n",
       "      <td>40201349</td>\n",
       "      <td>blank</td>\n",
       "      <td>2021-02-01</td>\n",
       "      <td>250.0</td>\n",
       "      <td>0</td>\n",
       "    </tr>\n",
       "  </tbody>\n",
       "</table>\n",
       "</div>"
      ],
      "text/plain": [
       "   Unnamed: 0  Unnamed: 0.1  airbnb_listing_id booked_on        date  \\\n",
       "0           0          2148           40201349     blank  2020-11-15   \n",
       "1           1          2159           40201349     blank  2020-11-26   \n",
       "2           2          2160           40201349     blank  2020-11-27   \n",
       "3           3          2173           40201349     blank  2020-12-10   \n",
       "4           4          2226           40201349     blank  2021-02-01   \n",
       "\n",
       "   price_string  occupied  \n",
       "0         250.0         0  \n",
       "1         250.0         0  \n",
       "2         250.0         0  \n",
       "3         250.0         0  \n",
       "4         250.0         0  "
      ]
     },
     "execution_count": 5,
     "metadata": {},
     "output_type": "execute_result"
    }
   ],
   "source": [
    "print(\"Dataset Price\")\n",
    "data_listings.head()"
   ]
  },
  {
   "cell_type": "markdown",
   "metadata": {},
   "source": [
    "Análise no número de features e tamanho."
   ]
  },
  {
   "cell_type": "code",
   "execution_count": 6,
   "metadata": {},
   "outputs": [
    {
     "name": "stdout",
     "output_type": "stream",
     "text": [
      "(4691, 9)\n",
      "(354520, 7)\n"
     ]
    }
   ],
   "source": [
    "print(data_details.shape)\n",
    "print(data_listings.shape)"
   ]
  },
  {
   "cell_type": "markdown",
   "metadata": {},
   "source": [
    "O csv parece ter sido extraído de um database relacional SQL, ou se beneficiaria muito de ser organizado nesse tipo de database.\n",
    "\n",
    "Contudo, como a transformação em SQL pode ser custosa em tempo de computação, os dados serão analisados em pandas. O Pandas possui também operações de vetorização que garantem uma boa eficiência.\n",
    "\n",
    "Seria recomendado adicionar os dados a esse tipo de database se diversas consultas relacionais forem necessárias, já que as consultas poderiam ser otimizadas com indexações e hashes."
   ]
  },
  {
   "cell_type": "markdown",
   "metadata": {},
   "source": [
    "Finalmente, é interessante criar um novo dataset para os cálculos relativos ao faturamento, para isso retiramos os valores os anúncios marcados como ocupados"
   ]
  },
  {
   "cell_type": "code",
   "execution_count": 7,
   "metadata": {},
   "outputs": [
    {
     "data": {
      "text/html": [
       "<div>\n",
       "<style scoped>\n",
       "    .dataframe tbody tr th:only-of-type {\n",
       "        vertical-align: middle;\n",
       "    }\n",
       "\n",
       "    .dataframe tbody tr th {\n",
       "        vertical-align: top;\n",
       "    }\n",
       "\n",
       "    .dataframe thead th {\n",
       "        text-align: right;\n",
       "    }\n",
       "</style>\n",
       "<table border=\"1\" class=\"dataframe\">\n",
       "  <thead>\n",
       "    <tr style=\"text-align: right;\">\n",
       "      <th></th>\n",
       "      <th>Unnamed: 0</th>\n",
       "      <th>Unnamed: 0.1</th>\n",
       "      <th>airbnb_listing_id</th>\n",
       "      <th>booked_on</th>\n",
       "      <th>date</th>\n",
       "      <th>price_string</th>\n",
       "      <th>occupied</th>\n",
       "    </tr>\n",
       "  </thead>\n",
       "  <tbody>\n",
       "    <tr>\n",
       "      <th>12</th>\n",
       "      <td>12</td>\n",
       "      <td>6452</td>\n",
       "      <td>40206270</td>\n",
       "      <td>2021-01-01 00:00:00</td>\n",
       "      <td>2021-01-01</td>\n",
       "      <td>380.0</td>\n",
       "      <td>1</td>\n",
       "    </tr>\n",
       "    <tr>\n",
       "      <th>13</th>\n",
       "      <td>13</td>\n",
       "      <td>6453</td>\n",
       "      <td>40206270</td>\n",
       "      <td>2021-01-01 00:00:00</td>\n",
       "      <td>2021-01-02</td>\n",
       "      <td>380.0</td>\n",
       "      <td>1</td>\n",
       "    </tr>\n",
       "    <tr>\n",
       "      <th>52</th>\n",
       "      <td>52</td>\n",
       "      <td>6492</td>\n",
       "      <td>40206270</td>\n",
       "      <td>2021-02-10 00:00:00</td>\n",
       "      <td>2021-02-10</td>\n",
       "      <td>195.0</td>\n",
       "      <td>1</td>\n",
       "    </tr>\n",
       "    <tr>\n",
       "      <th>53</th>\n",
       "      <td>53</td>\n",
       "      <td>6493</td>\n",
       "      <td>40206270</td>\n",
       "      <td>2021-02-10 00:00:00</td>\n",
       "      <td>2021-02-11</td>\n",
       "      <td>350.0</td>\n",
       "      <td>1</td>\n",
       "    </tr>\n",
       "    <tr>\n",
       "      <th>54</th>\n",
       "      <td>54</td>\n",
       "      <td>6494</td>\n",
       "      <td>40206270</td>\n",
       "      <td>2021-02-10 00:00:00</td>\n",
       "      <td>2021-02-12</td>\n",
       "      <td>350.0</td>\n",
       "      <td>1</td>\n",
       "    </tr>\n",
       "    <tr>\n",
       "      <th>55</th>\n",
       "      <td>55</td>\n",
       "      <td>6495</td>\n",
       "      <td>40206270</td>\n",
       "      <td>2021-02-10 00:00:00</td>\n",
       "      <td>2021-02-12</td>\n",
       "      <td>350.0</td>\n",
       "      <td>1</td>\n",
       "    </tr>\n",
       "    <tr>\n",
       "      <th>56</th>\n",
       "      <td>56</td>\n",
       "      <td>6496</td>\n",
       "      <td>40206270</td>\n",
       "      <td>2021-02-10 00:00:00</td>\n",
       "      <td>2021-02-13</td>\n",
       "      <td>350.0</td>\n",
       "      <td>1</td>\n",
       "    </tr>\n",
       "    <tr>\n",
       "      <th>57</th>\n",
       "      <td>57</td>\n",
       "      <td>6497</td>\n",
       "      <td>40206270</td>\n",
       "      <td>2021-02-10 00:00:00</td>\n",
       "      <td>2021-02-13</td>\n",
       "      <td>350.0</td>\n",
       "      <td>1</td>\n",
       "    </tr>\n",
       "    <tr>\n",
       "      <th>58</th>\n",
       "      <td>58</td>\n",
       "      <td>6498</td>\n",
       "      <td>40206270</td>\n",
       "      <td>2021-02-10 00:00:00</td>\n",
       "      <td>2021-02-14</td>\n",
       "      <td>350.0</td>\n",
       "      <td>1</td>\n",
       "    </tr>\n",
       "    <tr>\n",
       "      <th>59</th>\n",
       "      <td>59</td>\n",
       "      <td>6499</td>\n",
       "      <td>40206270</td>\n",
       "      <td>2021-02-10 00:00:00</td>\n",
       "      <td>2021-02-14</td>\n",
       "      <td>350.0</td>\n",
       "      <td>1</td>\n",
       "    </tr>\n",
       "  </tbody>\n",
       "</table>\n",
       "</div>"
      ],
      "text/plain": [
       "    Unnamed: 0  Unnamed: 0.1  airbnb_listing_id            booked_on  \\\n",
       "12          12          6452           40206270  2021-01-01 00:00:00   \n",
       "13          13          6453           40206270  2021-01-01 00:00:00   \n",
       "52          52          6492           40206270  2021-02-10 00:00:00   \n",
       "53          53          6493           40206270  2021-02-10 00:00:00   \n",
       "54          54          6494           40206270  2021-02-10 00:00:00   \n",
       "55          55          6495           40206270  2021-02-10 00:00:00   \n",
       "56          56          6496           40206270  2021-02-10 00:00:00   \n",
       "57          57          6497           40206270  2021-02-10 00:00:00   \n",
       "58          58          6498           40206270  2021-02-10 00:00:00   \n",
       "59          59          6499           40206270  2021-02-10 00:00:00   \n",
       "\n",
       "          date  price_string  occupied  \n",
       "12  2021-01-01         380.0         1  \n",
       "13  2021-01-02         380.0         1  \n",
       "52  2021-02-10         195.0         1  \n",
       "53  2021-02-11         350.0         1  \n",
       "54  2021-02-12         350.0         1  \n",
       "55  2021-02-12         350.0         1  \n",
       "56  2021-02-13         350.0         1  \n",
       "57  2021-02-13         350.0         1  \n",
       "58  2021-02-14         350.0         1  \n",
       "59  2021-02-14         350.0         1  "
      ]
     },
     "execution_count": 7,
     "metadata": {},
     "output_type": "execute_result"
    }
   ],
   "source": [
    "data_price = data_listings[data_listings[\"occupied\"] == 1]\n",
    "data_price = data_listings[data_listings[\"occupied\"] == 1]\n",
    "\n",
    "data_price.head(10)"
   ]
  },
  {
   "cell_type": "markdown",
   "metadata": {},
   "source": [
    "Agora uma análise de quantos dados são perdidos por feature. Primeiro para os dados do desafio_details.csv"
   ]
  },
  {
   "cell_type": "code",
   "execution_count": 8,
   "metadata": {},
   "outputs": [
    {
     "name": "stdout",
     "output_type": "stream",
     "text": [
      "Unnamed: 0 {False: 4691}\n",
      "airbnb_listing_id {False: 4691}\n",
      "suburb {False: 4691}\n",
      "ad_name {False: 4691}\n",
      "number_of_bedrooms {False: 4508, True: 183}\n",
      "number_of_bathrooms {False: 4690, True: 1}\n",
      "star_rating {False: 2570, True: 2121}\n",
      "is_superhost {False: 4691}\n",
      "number_of_reviews {False: 4684, True: 7}\n"
     ]
    }
   ],
   "source": [
    "for feature in data_details:\n",
    "    print(str(feature), dict(data_details[feature].isnull().value_counts()))"
   ]
  },
  {
   "cell_type": "markdown",
   "metadata": {},
   "source": [
    "Nesse caso True marca os dados faltantes. Para a maioria das features no dataset temos a maior parte dos dados presentes as ausências podem ser desconsideradas nos cálculos estatísticos. Contudo, para os ratings em termos de estrelas temos uma perda de 50% dos dados. Então é essencial tratá-los para melhorar os resultados."
   ]
  },
  {
   "cell_type": "markdown",
   "metadata": {},
   "source": [
    "Primeiramente investigamos se os rating em estrelas desapareceram devido à ausência de reviews. Então verificamos os números de dados sem nenhum rating e nenhuma review."
   ]
  },
  {
   "cell_type": "code",
   "execution_count": 9,
   "metadata": {},
   "outputs": [
    {
     "data": {
      "text/plain": [
       "1153"
      ]
     },
     "execution_count": 9,
     "metadata": {},
     "output_type": "execute_result"
    }
   ],
   "source": [
    "len(data_details[np.logical_and(data_details[\"star_rating\"].isnull(),data_details[\"number_of_reviews\"] == 0)])"
   ]
  },
  {
   "cell_type": "markdown",
   "metadata": {},
   "source": [
    "Com esse número podemos perceber que existem imóveis com reviews sem star ratings. Seria interessante investigar os motivos disso, mas sem informações sobre a coleta de dados a decisão de como lidar com eles será tomada no momento da análise."
   ]
  },
  {
   "cell_type": "markdown",
   "metadata": {},
   "source": [
    "Agora para os dados dos listings"
   ]
  },
  {
   "cell_type": "code",
   "execution_count": 10,
   "metadata": {},
   "outputs": [
    {
     "name": "stdout",
     "output_type": "stream",
     "text": [
      "Unnamed: 0 {False: 354520}\n",
      "Unnamed: 0.1 {False: 354520}\n",
      "airbnb_listing_id {False: 354520}\n",
      "booked_on {False: 354520}\n",
      "date {False: 354520}\n",
      "price_string {False: 354520}\n",
      "occupied {False: 354520}\n"
     ]
    }
   ],
   "source": [
    "for feature in data_listings:\n",
    "    print(str(feature), dict(data_listings[feature].isnull().value_counts()))"
   ]
  },
  {
   "cell_type": "markdown",
   "metadata": {},
   "source": [
    "Perfeito, nesse dataset todos os dados estão presentes. Nenhum tratamento referente a isso é necessário."
   ]
  },
  {
   "cell_type": "markdown",
   "metadata": {},
   "source": [
    "# 1 Tarefa\n",
    "\n",
    "Ordenar os bairros.\n",
    "\n",
    "Essa tarefa pode ser obtida diretamente do comando value_counts do modulo pandas. Esse comando vai contar o número de linhas para cada bairro diferente."
   ]
  },
  {
   "cell_type": "code",
   "execution_count": 11,
   "metadata": {},
   "outputs": [],
   "source": [
    "listings_bairro = dict(data_details[\"suburb\"].value_counts())"
   ]
  },
  {
   "cell_type": "markdown",
   "metadata": {},
   "source": [
    "Agora, ordenarmos o dicionário usando os valores obtidos."
   ]
  },
  {
   "cell_type": "code",
   "execution_count": 12,
   "metadata": {},
   "outputs": [
    {
     "name": "stdout",
     "output_type": "stream",
     "text": [
      "Ingleses 2388\n",
      "Canasvieiras 1177\n",
      "Jurerê 539\n",
      "Lagoa da Conceição 309\n",
      "Centro 278\n"
     ]
    }
   ],
   "source": [
    "listings_bairro_sorted = dict(sorted(listings_bairro.items(), key=lambda item: item[1], reverse=True))\n",
    "for key in listings_bairro_sorted:\n",
    "    print(key, listings_bairro_sorted[key])"
   ]
  },
  {
   "cell_type": "markdown",
   "metadata": {},
   "source": [
    "O gráfico de barras para melhor visualização"
   ]
  },
  {
   "cell_type": "code",
   "execution_count": 13,
   "metadata": {},
   "outputs": [
    {
     "data": {
      "image/png": "[encoded data removed]",
      "text/plain": [
       "<Figure size 504x504 with 1 Axes>"
      ]
     },
     "metadata": {
      "needs_background": "light"
     },
     "output_type": "display_data"
    }
   ],
   "source": [
    "x = list(range(len(listings_bairro_sorted)))\n",
    "plt.figure(figsize=(7,7))\n",
    "plt.title(\"Num. de listings por Bairro\")\n",
    "plt.xlabel(\"Bairro\")\n",
    "plt.ylabel(\"Num. de listings\")\n",
    "plt.xticks(x, list(listings_bairro_sorted.keys()))\n",
    "plt.bar(x, list(listings_bairro_sorted.values()))\n",
    "plt.show()"
   ]
  },
  {
   "cell_type": "markdown",
   "metadata": {},
   "source": [
    "# Tarefa 2\n",
    "\n",
    "Para realização da tarefa 2 começaremos calculando o faturamento médio de cada imóvel por dia (cada airbnb_listing_id) e adicionando ao dataframe data_details. Consideramos também que o faturamento é zero nos dias que o imóvel não está ocupado e se seu id não se encontra na lista \"desafio_priceav\".\n",
    "\n",
    "Isso foi feito para facilitar a resolução da questão 3 que envolve também dados de faturamento."
   ]
  },
  {
   "cell_type": "code",
   "execution_count": 14,
   "metadata": {},
   "outputs": [
    {
     "name": "stdout",
     "output_type": "stream",
     "text": [
      "Numero de ids que não se econtram na data_listings:1344\n"
     ]
    }
   ],
   "source": [
    "# Separar as variaveis de listing_ids para vetorização\n",
    "listings_ids = list(data_details.loc[:, \"airbnb_listing_id\"])\n",
    "\n",
    "\n",
    "# Calculamos o faturamento medio por listing somando apenas os valores quando o imovel estava ocupado e dividindo\n",
    "# por todos os dias disponivels. Calculando assim o faturamento medio\n",
    "# Para os dados onde não temos informações sobre o faturamento ou seja nenhum elemento em data_listings\n",
    "# Colocamos \"N/A\" para indicar que não temos informações sobre o faturamento\n",
    "number_of_ids_not_in_listing = 0\n",
    "faturamento = []\n",
    "for list_id in listings_ids:\n",
    "    try:\n",
    "        faturamento.append(sum(data_price[data_price[\"airbnb_listing_id\"] == list_id][\"price_string\"])\n",
    "                           /len(data_listings[data_listings[\"airbnb_listing_id\"] == list_id]))\n",
    "    except ZeroDivisionError:\n",
    "        number_of_ids_not_in_listing = number_of_ids_not_in_listing + 1\n",
    "        faturamento.append(\"N/A\")\n",
    "\n",
    "# Numero de ids que não se econtram na data_listings\n",
    "print(\"Numero de ids que não se econtram na data_listings:\" + str(number_of_ids_not_in_listing))\n",
    "\n",
    "# Adicionando o faturamento ao dataframe\n",
    "data_details[\"Faturamento\"] = faturamento\n",
    "data_details[\"Faturamento\"].replace('N/A', np.NaN, inplace=True)"
   ]
  },
  {
   "cell_type": "markdown",
   "metadata": {},
   "source": [
    "Visualização da nova tabela"
   ]
  },
  {
   "cell_type": "code",
   "execution_count": 15,
   "metadata": {},
   "outputs": [
    {
     "data": {
      "text/html": [
       "<div>\n",
       "<style scoped>\n",
       "    .dataframe tbody tr th:only-of-type {\n",
       "        vertical-align: middle;\n",
       "    }\n",
       "\n",
       "    .dataframe tbody tr th {\n",
       "        vertical-align: top;\n",
       "    }\n",
       "\n",
       "    .dataframe thead th {\n",
       "        text-align: right;\n",
       "    }\n",
       "</style>\n",
       "<table border=\"1\" class=\"dataframe\">\n",
       "  <thead>\n",
       "    <tr style=\"text-align: right;\">\n",
       "      <th></th>\n",
       "      <th>Unnamed: 0</th>\n",
       "      <th>airbnb_listing_id</th>\n",
       "      <th>suburb</th>\n",
       "      <th>ad_name</th>\n",
       "      <th>number_of_bedrooms</th>\n",
       "      <th>number_of_bathrooms</th>\n",
       "      <th>star_rating</th>\n",
       "      <th>is_superhost</th>\n",
       "      <th>number_of_reviews</th>\n",
       "      <th>Faturamento</th>\n",
       "    </tr>\n",
       "  </thead>\n",
       "  <tbody>\n",
       "    <tr>\n",
       "      <th>0</th>\n",
       "      <td>0</td>\n",
       "      <td>31389869</td>\n",
       "      <td>Jurerê</td>\n",
       "      <td>Lindo Apartamento em Jurerê</td>\n",
       "      <td>2.0</td>\n",
       "      <td>2.0</td>\n",
       "      <td>5.0</td>\n",
       "      <td>False</td>\n",
       "      <td>15.0</td>\n",
       "      <td>142.222222</td>\n",
       "    </tr>\n",
       "    <tr>\n",
       "      <th>1</th>\n",
       "      <td>1</td>\n",
       "      <td>40010667</td>\n",
       "      <td>Canasvieiras</td>\n",
       "      <td>Residencial Arruda, 1 quarto</td>\n",
       "      <td>1.0</td>\n",
       "      <td>1.0</td>\n",
       "      <td>NaN</td>\n",
       "      <td>False</td>\n",
       "      <td>0.0</td>\n",
       "      <td>56.842105</td>\n",
       "    </tr>\n",
       "    <tr>\n",
       "      <th>2</th>\n",
       "      <td>2</td>\n",
       "      <td>38905997</td>\n",
       "      <td>Ingleses</td>\n",
       "      <td>Apartamento NOVO Completo - Moderno e Sofisticado</td>\n",
       "      <td>1.0</td>\n",
       "      <td>1.0</td>\n",
       "      <td>4.5</td>\n",
       "      <td>True</td>\n",
       "      <td>13.0</td>\n",
       "      <td>87.804348</td>\n",
       "    </tr>\n",
       "    <tr>\n",
       "      <th>3</th>\n",
       "      <td>3</td>\n",
       "      <td>22343656</td>\n",
       "      <td>Ingleses</td>\n",
       "      <td>06- Apartamento 02 habitaciones</td>\n",
       "      <td>2.0</td>\n",
       "      <td>1.0</td>\n",
       "      <td>5.0</td>\n",
       "      <td>True</td>\n",
       "      <td>28.0</td>\n",
       "      <td>NaN</td>\n",
       "    </tr>\n",
       "    <tr>\n",
       "      <th>4</th>\n",
       "      <td>4</td>\n",
       "      <td>18328184</td>\n",
       "      <td>Canasvieiras</td>\n",
       "      <td>Apto 2 quartos em Canasvieiras, Florianopolis!</td>\n",
       "      <td>2.0</td>\n",
       "      <td>1.0</td>\n",
       "      <td>5.0</td>\n",
       "      <td>True</td>\n",
       "      <td>35.0</td>\n",
       "      <td>115.992366</td>\n",
       "    </tr>\n",
       "  </tbody>\n",
       "</table>\n",
       "</div>"
      ],
      "text/plain": [
       "   Unnamed: 0  airbnb_listing_id        suburb  \\\n",
       "0           0           31389869        Jurerê   \n",
       "1           1           40010667  Canasvieiras   \n",
       "2           2           38905997      Ingleses   \n",
       "3           3           22343656      Ingleses   \n",
       "4           4           18328184  Canasvieiras   \n",
       "\n",
       "                                             ad_name  number_of_bedrooms  \\\n",
       "0                        Lindo Apartamento em Jurerê                 2.0   \n",
       "1                       Residencial Arruda, 1 quarto                 1.0   \n",
       "2  Apartamento NOVO Completo - Moderno e Sofisticado                 1.0   \n",
       "3                    06- Apartamento 02 habitaciones                 2.0   \n",
       "4     Apto 2 quartos em Canasvieiras, Florianopolis!                 2.0   \n",
       "\n",
       "   number_of_bathrooms  star_rating  is_superhost  number_of_reviews  \\\n",
       "0                  2.0          5.0         False               15.0   \n",
       "1                  1.0          NaN         False                0.0   \n",
       "2                  1.0          4.5          True               13.0   \n",
       "3                  1.0          5.0          True               28.0   \n",
       "4                  1.0          5.0          True               35.0   \n",
       "\n",
       "   Faturamento  \n",
       "0   142.222222  \n",
       "1    56.842105  \n",
       "2    87.804348  \n",
       "3          NaN  \n",
       "4   115.992366  "
      ]
     },
     "execution_count": 15,
     "metadata": {},
     "output_type": "execute_result"
    }
   ],
   "source": [
    "data_details.head()"
   ]
  },
  {
   "cell_type": "markdown",
   "metadata": {},
   "source": [
    "Agora é apenas uma questão de vetorização para encontrar a soma dos faturamento médios por bairro"
   ]
  },
  {
   "cell_type": "code",
   "execution_count": 16,
   "metadata": {},
   "outputs": [
    {
     "name": "stdout",
     "output_type": "stream",
     "text": [
      "Ingleses 269884\n",
      "Canasvieiras 109801\n",
      "Jurerê 71711\n",
      "Lagoa da Conceição 20934\n",
      "Centro 16104\n"
     ]
    }
   ],
   "source": [
    "# Primeiramente obtemos os nomes dos bairros usando o dicionario da estrutura passada\n",
    "bairros_nome = list(listings_bairro.keys())\n",
    "\n",
    "# Calculo do faturamento por bairro\n",
    "faturamento_por_bairro = {}\n",
    "for bairro in bairros_nome:\n",
    "    faturamento_por_bairro[bairro] = sum(data_details[\n",
    "        np.logical_and(data_details[\"suburb\"] == bairro, data_details[\"Faturamento\"].notnull())][\"Faturamento\"])\n",
    "    \n",
    "# Colocar na ordem correta\n",
    "faturamento_por_bairro_sorted = dict(sorted(faturamento_por_bairro.items(), key=lambda item: item[1], reverse=True))\n",
    "for key in faturamento_por_bairro_sorted:\n",
    "    print(key, int(faturamento_por_bairro_sorted[key]))"
   ]
  },
  {
   "cell_type": "markdown",
   "metadata": {},
   "source": [
    "Novamente o gráfico de barras para melhor visualização"
   ]
  },
  {
   "cell_type": "code",
   "execution_count": 17,
   "metadata": {},
   "outputs": [
    {
     "data": {
      "image/png": "[encoded data removed]",
      "text/plain": [
       "<Figure size 504x504 with 1 Axes>"
      ]
     },
     "metadata": {
      "needs_background": "light"
     },
     "output_type": "display_data"
    }
   ],
   "source": [
    "x = list(range(len(faturamento_por_bairro)))\n",
    "plt.figure(figsize=(7,7))\n",
    "plt.title(\"Faturamento por bairro\")\n",
    "plt.xlabel(\"Bairro\")\n",
    "plt.ylabel(\"Faturamento\")\n",
    "plt.xticks(x, list(faturamento_por_bairro_sorted.keys()))\n",
    "plt.bar(x, list(faturamento_por_bairro_sorted.values()))\n",
    "plt.show()"
   ]
  },
  {
   "cell_type": "markdown",
   "metadata": {},
   "source": [
    "Outro valor interessante ser calculado é o faturamento por listing para normalizar o valor obtido para cada bairro"
   ]
  },
  {
   "cell_type": "code",
   "execution_count": 18,
   "metadata": {},
   "outputs": [
    {
     "name": "stdout",
     "output_type": "stream",
     "text": [
      "Jurerê 192\n",
      "Ingleses 157\n",
      "Canasvieiras 129\n",
      "Lagoa da Conceição 96\n",
      "Centro 81\n"
     ]
    },
    {
     "data": {
      "image/png": "[encoded data removed]",
      "text/plain": [
       "<Figure size 504x504 with 1 Axes>"
      ]
     },
     "metadata": {
      "needs_background": "light"
     },
     "output_type": "display_data"
    }
   ],
   "source": [
    "# Normalizando os faturamentos de cada bairro por listing\n",
    "faturamento_por_bairro_normalizado = {}\n",
    "\n",
    "for bairro in bairros_nome:\n",
    "        faturamento_por_bairro_normalizado[bairro] = faturamento_por_bairro_sorted[\n",
    "           bairro]/np.sum(np.logical_and(data_details[\"suburb\"] == bairro, data_details[\"Faturamento\"].notnull()))\n",
    "\n",
    "        \n",
    "# Ordenando o dicionario\n",
    "faturamento_por_bairro_normalizado = dict(sorted(faturamento_por_bairro_normalizado.items(), key=lambda item: item[1], reverse=True))\n",
    "\n",
    "for key in faturamento_por_bairro_normalizado:\n",
    "    print(key, int(faturamento_por_bairro_normalizado[key]))\n",
    "        \n",
    "x = list(range(len(faturamento_por_bairro)))\n",
    "plt.figure(figsize=(7,7))\n",
    "plt.title(\"Faturamento normalizado por bairro\")\n",
    "plt.xlabel(\"Bairro\")\n",
    "plt.ylabel(\"Faturamento normalizado\")\n",
    "plt.tick_params(axis='x', which='major', labelsize=8)\n",
    "plt.xticks(x, list(faturamento_por_bairro_normalizado.keys()))\n",
    "plt.bar(x, list(faturamento_por_bairro_normalizado.values()))\n",
    "plt.show()"
   ]
  },
  {
   "cell_type": "markdown",
   "metadata": {},
   "source": [
    "O faturamento por listing modifica completamente a ordem, esse resultado pode mudar as decisões estratégicas."
   ]
  },
  {
   "cell_type": "markdown",
   "metadata": {},
   "source": [
    "# 3 Tarefa"
   ]
  },
  {
   "cell_type": "markdown",
   "metadata": {},
   "source": [
    "Como o dataframe foi otimizado na segunda tarefa a terceira é obtida diretamente da chamada de correlação do Pandas.\n",
    "\n",
    "Primeiramente a correlação pode ser calculada com valores numéricos então realizamos uma substituição. Como estamos interessados na relação entre o nome do bairro e o faturamento substituímos os bairros com maior faturamento pelos maiores valores.\n",
    "\n",
    "Aqui precisamos fazer certas operações de limpeza nos dados, removendo a coluna \"Unamed: 0\". Precisamos lidar os dados perdidos (NaN no pandas dataframe) já que a função de correlação do Pandas desconsidera automaticamente seus valores quando calcula a correlação e a sua ausência pode ter impacto no faturamento em alguns casos.\n",
    "\n",
    "Removemos o ad_name pois não será utilizado no cálculo da correlação."
   ]
  },
  {
   "cell_type": "code",
   "execution_count": 19,
   "metadata": {},
   "outputs": [],
   "source": [
    "# Criamos uma nova copia do dataset isso é feito pois a tabela é pequena e facilita um pouco a execução no Jupyter\n",
    "data_correlation = data_details.copy()\n",
    "\n",
    "# Aqui removemos as colunas não utilizadas para correlação\n",
    "# O try except esta aqui para não termos problemas reutilização do codigo\n",
    "data_details_features = []\n",
    "for feature in data_details:\n",
    "    data_details_features.append(feature)\n",
    "\n",
    "try:\n",
    "    index_unnamed = data_details_features.index(\"Unnamed: 0\")\n",
    "    data_details_features.pop(index_unnamed)\n",
    "    data_correlation.drop(data_correlation.columns[index_unnamed], axis=1, inplace=True)\n",
    "except KeyError:\n",
    "    pass\n",
    "except ValueError:\n",
    "    pass\n",
    "\n",
    "try:\n",
    "    index_ad_name = data_details_features.index(\"ad_name\")\n",
    "    data_details_features.pop(index_ad_name)\n",
    "    data_correlation.drop(data_correlation.columns[index_ad_name], axis=1, inplace=True)\n",
    "except KeyError:\n",
    "    pass\n",
    "except ValueError:\n",
    "    pass\n",
    "\n",
    "# Trocamos para valores numericos para o calculo da correlação\n",
    "dicionario_processamento_bairros_para_numero = {}\n",
    "for i,bairro in enumerate(reversed(list(faturamento_por_bairro_normalizado.keys()))):\n",
    "    dicionario_processamento_bairros_para_numero[bairro] = i   \n",
    "    \n",
    "dicionario_processamento_superhost_para_numero = {False:0, True:1}\n",
    "try:\n",
    "    data_correlation[\"is_superhost\"].replace(dicionario_processamento_superhost_para_numero, inplace=True)\n",
    "    data_correlation[\"suburb\"].replace(dicionario_processamento_bairros_para_numero, inplace=True)\n",
    "except TypeError:\n",
    "    pass"
   ]
  },
  {
   "cell_type": "markdown",
   "metadata": {},
   "source": [
    "Aqui finalmente lidamos com os valores NaN na tabela de reviews, uma das práticas mais simples é substituir os valores desconhecidos pela média para tentar \"neutralizar\" seu impacto. Contudo, nesse caso seria interessante identificar o motivo por que estão faltando já que tem um impacto muito grande no cálculo da correlação por reviews."
   ]
  },
  {
   "cell_type": "code",
   "execution_count": 20,
   "metadata": {},
   "outputs": [],
   "source": [
    "data_correlation[\"star_rating\"] = data_correlation[\"star_rating\"].fillna(data_correlation[\"star_rating\"].mean())"
   ]
  },
  {
   "cell_type": "markdown",
   "metadata": {},
   "source": [
    "A cada operação de mudança é importante visualizar o dataframe"
   ]
  },
  {
   "cell_type": "code",
   "execution_count": 21,
   "metadata": {},
   "outputs": [
    {
     "data": {
      "text/html": [
       "<div>\n",
       "<style scoped>\n",
       "    .dataframe tbody tr th:only-of-type {\n",
       "        vertical-align: middle;\n",
       "    }\n",
       "\n",
       "    .dataframe tbody tr th {\n",
       "        vertical-align: top;\n",
       "    }\n",
       "\n",
       "    .dataframe thead th {\n",
       "        text-align: right;\n",
       "    }\n",
       "</style>\n",
       "<table border=\"1\" class=\"dataframe\">\n",
       "  <thead>\n",
       "    <tr style=\"text-align: right;\">\n",
       "      <th></th>\n",
       "      <th>airbnb_listing_id</th>\n",
       "      <th>suburb</th>\n",
       "      <th>number_of_bedrooms</th>\n",
       "      <th>number_of_bathrooms</th>\n",
       "      <th>star_rating</th>\n",
       "      <th>is_superhost</th>\n",
       "      <th>number_of_reviews</th>\n",
       "      <th>Faturamento</th>\n",
       "    </tr>\n",
       "  </thead>\n",
       "  <tbody>\n",
       "    <tr>\n",
       "      <th>0</th>\n",
       "      <td>31389869</td>\n",
       "      <td>4</td>\n",
       "      <td>2.0</td>\n",
       "      <td>2.0</td>\n",
       "      <td>5.000000</td>\n",
       "      <td>0</td>\n",
       "      <td>15.0</td>\n",
       "      <td>142.222222</td>\n",
       "    </tr>\n",
       "    <tr>\n",
       "      <th>1</th>\n",
       "      <td>40010667</td>\n",
       "      <td>2</td>\n",
       "      <td>1.0</td>\n",
       "      <td>1.0</td>\n",
       "      <td>4.832296</td>\n",
       "      <td>0</td>\n",
       "      <td>0.0</td>\n",
       "      <td>56.842105</td>\n",
       "    </tr>\n",
       "    <tr>\n",
       "      <th>2</th>\n",
       "      <td>38905997</td>\n",
       "      <td>3</td>\n",
       "      <td>1.0</td>\n",
       "      <td>1.0</td>\n",
       "      <td>4.500000</td>\n",
       "      <td>1</td>\n",
       "      <td>13.0</td>\n",
       "      <td>87.804348</td>\n",
       "    </tr>\n",
       "    <tr>\n",
       "      <th>3</th>\n",
       "      <td>22343656</td>\n",
       "      <td>3</td>\n",
       "      <td>2.0</td>\n",
       "      <td>1.0</td>\n",
       "      <td>5.000000</td>\n",
       "      <td>1</td>\n",
       "      <td>28.0</td>\n",
       "      <td>NaN</td>\n",
       "    </tr>\n",
       "    <tr>\n",
       "      <th>4</th>\n",
       "      <td>18328184</td>\n",
       "      <td>2</td>\n",
       "      <td>2.0</td>\n",
       "      <td>1.0</td>\n",
       "      <td>5.000000</td>\n",
       "      <td>1</td>\n",
       "      <td>35.0</td>\n",
       "      <td>115.992366</td>\n",
       "    </tr>\n",
       "  </tbody>\n",
       "</table>\n",
       "</div>"
      ],
      "text/plain": [
       "   airbnb_listing_id  suburb  number_of_bedrooms  number_of_bathrooms  \\\n",
       "0           31389869       4                 2.0                  2.0   \n",
       "1           40010667       2                 1.0                  1.0   \n",
       "2           38905997       3                 1.0                  1.0   \n",
       "3           22343656       3                 2.0                  1.0   \n",
       "4           18328184       2                 2.0                  1.0   \n",
       "\n",
       "   star_rating  is_superhost  number_of_reviews  Faturamento  \n",
       "0     5.000000             0               15.0   142.222222  \n",
       "1     4.832296             0                0.0    56.842105  \n",
       "2     4.500000             1               13.0    87.804348  \n",
       "3     5.000000             1               28.0          NaN  \n",
       "4     5.000000             1               35.0   115.992366  "
      ]
     },
     "execution_count": 21,
     "metadata": {},
     "output_type": "execute_result"
    }
   ],
   "source": [
    "data_correlation.head()"
   ]
  },
  {
   "cell_type": "code",
   "execution_count": 22,
   "metadata": {},
   "outputs": [
    {
     "name": "stdout",
     "output_type": "stream",
     "text": [
      "                     airbnb_listing_id    suburb  number_of_bedrooms  \\\n",
      "airbnb_listing_id             1.000000 -0.013092           -0.051791   \n",
      "suburb                       -0.013092  1.000000            0.126091   \n",
      "number_of_bedrooms           -0.051791  0.126091            1.000000   \n",
      "number_of_bathrooms          -0.047441  0.165308            0.745900   \n",
      "star_rating                  -0.009658  0.030206           -0.009718   \n",
      "is_superhost                 -0.082513 -0.013656           -0.102447   \n",
      "number_of_reviews            -0.347276 -0.044607           -0.097374   \n",
      "Faturamento                  -0.000042  0.218078            0.292396   \n",
      "\n",
      "                     number_of_bathrooms  star_rating  is_superhost  \\\n",
      "airbnb_listing_id              -0.047441    -0.009658     -0.082513   \n",
      "suburb                          0.165308     0.030206     -0.013656   \n",
      "number_of_bedrooms              0.745900    -0.009718     -0.102447   \n",
      "number_of_bathrooms             1.000000     0.004192     -0.095708   \n",
      "star_rating                     0.004192     1.000000      0.164874   \n",
      "is_superhost                   -0.095708     0.164874      1.000000   \n",
      "number_of_reviews              -0.081508     0.108476      0.351177   \n",
      "Faturamento                     0.272471     0.025349     -0.047013   \n",
      "\n",
      "                     number_of_reviews  Faturamento  \n",
      "airbnb_listing_id            -0.347276    -0.000042  \n",
      "suburb                       -0.044607     0.218078  \n",
      "number_of_bedrooms           -0.097374     0.292396  \n",
      "number_of_bathrooms          -0.081508     0.272471  \n",
      "star_rating                   0.108476     0.025349  \n",
      "is_superhost                  0.351177    -0.047013  \n",
      "number_of_reviews             1.000000    -0.035029  \n",
      "Faturamento                  -0.035029     1.000000  \n"
     ]
    }
   ],
   "source": [
    "correlation = data_correlation.corr(method='pearson', min_periods=1)\n",
    "print(correlation)"
   ]
  },
  {
   "cell_type": "markdown",
   "metadata": {},
   "source": [
    "Agora extraímos a parte da correlação com o fraturamento"
   ]
  },
  {
   "cell_type": "code",
   "execution_count": 23,
   "metadata": {},
   "outputs": [],
   "source": [
    "faturamento_corelaçao = correlation[\"Faturamento\"][:-1]"
   ]
  },
  {
   "cell_type": "markdown",
   "metadata": {},
   "source": [
    "Finalmente os valores de correlação normalizados e o bar graph"
   ]
  },
  {
   "cell_type": "code",
   "execution_count": 24,
   "metadata": {},
   "outputs": [
    {
     "name": "stdout",
     "output_type": "stream",
     "text": [
      "airbnb_listing_id     -0.000042\n",
      "suburb                 0.218078\n",
      "number_of_bedrooms     0.292396\n",
      "number_of_bathrooms    0.272471\n",
      "star_rating            0.025349\n",
      "is_superhost          -0.047013\n",
      "number_of_reviews     -0.035029\n",
      "Name: Faturamento, dtype: float64\n"
     ]
    },
    {
     "data": {
      "image/png": "[encoded data removed]",
      "text/plain": [
       "<Figure size 504x504 with 1 Axes>"
      ]
     },
     "metadata": {
      "needs_background": "light"
     },
     "output_type": "display_data"
    }
   ],
   "source": [
    "print(faturamento_corelaçao)\n",
    "\n",
    "for i,feature in enumerate(data_correlation):\n",
    "    data_details_features[i] = feature.split(\"_\")[-1]    \n",
    "\n",
    "x = list(range(len(faturamento_corelaçao)))\n",
    "plt.figure(figsize=(7,7))\n",
    "plt.title(\"Correlação entre diferentes features\")\n",
    "plt.xlabel(\"Features\")\n",
    "plt.ylabel(\"Correlação\")\n",
    "plt.xticks(x, list(data_details_features))\n",
    "plt.tick_params(axis='x', which='major', labelsize=10)\n",
    "plt.bar(x, list(faturamento_corelaçao))\n",
    "plt.show()"
   ]
  },
  {
   "cell_type": "markdown",
   "metadata": {},
   "source": [
    "Aqui a correlação com o número de estrelas (\"rating\") obtida foi muito baixa. Por isso é necessário estudar um pouco os dados e tentar entender o motivo disso. \n",
    "\n",
    "Isso pode ser primeiramente devido ao fato que esse é o atributo que mais falta nos dados, assim é interessante estudar o motivo dessa falta de dados e entender se o resultado não esperado é resultado de um viés da coleção dos dados. Se os dados vieram de uma chamada de API deve se ler a documentação dela.\n",
    "\n",
    "Vamos primeiro verificar se existe casos em que a faturamento e não existe um rating."
   ]
  },
  {
   "cell_type": "code",
   "execution_count": 25,
   "metadata": {},
   "outputs": [
    {
     "data": {
      "text/plain": [
       "654"
      ]
     },
     "execution_count": 25,
     "metadata": {},
     "output_type": "execute_result"
    }
   ],
   "source": [
    "np.sum( np.logical_and(data_details[\"star_rating\"].notnull(),data_details[\"Faturamento\"].isnull()) )"
   ]
  },
  {
   "cell_type": "markdown",
   "metadata": {},
   "source": [
    "E interessante remover esses valores para conferir se altera o valor da correlação"
   ]
  },
  {
   "cell_type": "code",
   "execution_count": 26,
   "metadata": {},
   "outputs": [
    {
     "data": {
      "text/html": [
       "<div>\n",
       "<style scoped>\n",
       "    .dataframe tbody tr th:only-of-type {\n",
       "        vertical-align: middle;\n",
       "    }\n",
       "\n",
       "    .dataframe tbody tr th {\n",
       "        vertical-align: top;\n",
       "    }\n",
       "\n",
       "    .dataframe thead th {\n",
       "        text-align: right;\n",
       "    }\n",
       "</style>\n",
       "<table border=\"1\" class=\"dataframe\">\n",
       "  <thead>\n",
       "    <tr style=\"text-align: right;\">\n",
       "      <th></th>\n",
       "      <th>star_rating</th>\n",
       "      <th>Faturamento</th>\n",
       "    </tr>\n",
       "  </thead>\n",
       "  <tbody>\n",
       "    <tr>\n",
       "      <th>star_rating</th>\n",
       "      <td>1.000000</td>\n",
       "      <td>0.037649</td>\n",
       "    </tr>\n",
       "    <tr>\n",
       "      <th>Faturamento</th>\n",
       "      <td>0.037649</td>\n",
       "      <td>1.000000</td>\n",
       "    </tr>\n",
       "  </tbody>\n",
       "</table>\n",
       "</div>"
      ],
      "text/plain": [
       "             star_rating  Faturamento\n",
       "star_rating     1.000000     0.037649\n",
       "Faturamento     0.037649     1.000000"
      ]
     },
     "execution_count": 26,
     "metadata": {},
     "output_type": "execute_result"
    }
   ],
   "source": [
    "data_details[np.logical_and(\n",
    "    data_details[\"star_rating\"].notnull(),data_details[\"Faturamento\"].notnull())][[\"star_rating\",\"Faturamento\"]].corr(method='pearson', min_periods=1)"
   ]
  },
  {
   "cell_type": "markdown",
   "metadata": {},
   "source": [
    "Isso aumenta um pouco o valor da correlação mas ainda não é um valor alto o suficiente para ser considerado como relevante"
   ]
  },
  {
   "cell_type": "markdown",
   "metadata": {},
   "source": [
    "# 4 Tarefa\n",
    "\n",
    "Aqui vamos analisar a antecedência média das reservas.\n",
    "\n",
    "O modulo datetime é excelente para fazer isso, pois permite a subtração direta entre datas. Ele ainda permite o cálculo do dia da semana com o fornecimento da data, ou seja, ideal para analisar as frequências de ocupação."
   ]
  },
  {
   "cell_type": "markdown",
   "metadata": {},
   "source": [
    "Nessa tarefa temos um problema relativo à maneira que os dados de ocupação estão organizados. Aqui temos o faturamento por dia de ocupação e temos uma linha para cada dia que o imóvel foi ocupado. Para calcular o tempo médio de antecedência da reserva não podemos considerar todas essas entradas, apenas a primeira entrada do dia de ocupação."
   ]
  },
  {
   "cell_type": "code",
   "execution_count": 27,
   "metadata": {},
   "outputs": [],
   "source": [
    "# Infelizmente nesse momento é necessario fazer um loop por todos os dados restantes no dataset\n",
    "# Definimos uma variavel listing para lidar com a repetição de alugueis\n",
    "# Começamos definindo as variaveis necessarias para o calculo da media\n",
    "# E depois o dicionario para a construção do histograma referente as ocupações por dia da semana\n",
    "previous_listing = 0\n",
    "previous_booking = 0\n",
    "total_days_distance = 0\n",
    "days_counter = 0\n",
    "frequencia_dia_ocupacao = {\"Segunda\": 0, \"Terça\": 0, \"Quarta\": 0, \"Quinta\":0, \"Sexta\":0, \"Sabado\":0, \"Domingo\":0}\n",
    "frequencia_dia_reservacao = {\"Segunda\": 0, \"Terça\": 0, \"Quarta\": 0, \"Quinta\":0, \"Sexta\":0, \"Sabado\":0, \"Domingo\":0}\n",
    "hash_weekday_nome = {0: \"Segunda\", 1:\"Terça\", 2:\"Quarta\", 3:\"Quinta\", 4:\"Sexta\", 5:\"Sabado\", 6:\"Domingo\"}\n",
    "\n",
    "for listing,booking,date in zip(data_price[\"airbnb_listing_id\"],data_price[\"booked_on\"], data_price[\"date\"]):\n",
    "    \n",
    "    # Essa parte do codigo se refere a distância dos dias da reserva a data de ocupação\n",
    "    # Primeiramente processamos as datas da coluna e transformamos no objeto datetime\n",
    "    booking = booking.split(\" \")[0].split(\"-\")\n",
    "    booking = datetime.datetime(int(booking[0]), int(booking[1]), int(booking[2]))\n",
    "    date = date.split(\"-\")\n",
    "    date = datetime.datetime(int(date[0]), int(date[1]), int(date[2]))\n",
    "    \n",
    "    # Os dias de ocupação não se repetem então podemos tratalos em todos os casos\n",
    "    # Obter o dia de ocupaca e adicionar ao dicionario de contagem\n",
    "    weekday = hash_weekday_nome[date.weekday()]\n",
    "    frequencia_dia_ocupacao[weekday] = frequencia_dia_ocupacao[weekday] + 1\n",
    "    \n",
    "    if listing != previous_listing or booking != previous_booking: \n",
    "        # Aqui tratamos com a repetição de alugueis\n",
    "        previous_listing = listing\n",
    "        previous_booking = booking\n",
    "    \n",
    "        # Distância entre os dias e adicionar ao dicinario de contagem\n",
    "        days = (date - booking).days\n",
    "        total_days_distance = total_days_distance + days\n",
    "        days_counter = days_counter + 1\n",
    "\n",
    "        # Obter o dia da reservacao e adicionar ao dicionario de contagem\n",
    "        weekday = hash_weekday_nome[booking.weekday()]\n",
    "        frequencia_dia_reservacao[weekday] = frequencia_dia_reservacao[weekday] + 1\n",
    "    \n",
    "    "
   ]
  },
  {
   "cell_type": "markdown",
   "metadata": {},
   "source": [
    "Agora temos a visualização final dos dados"
   ]
  },
  {
   "cell_type": "code",
   "execution_count": 28,
   "metadata": {},
   "outputs": [
    {
     "name": "stdout",
     "output_type": "stream",
     "text": [
      "Media das datas das reservações antecipadas: 20\n"
     ]
    }
   ],
   "source": [
    "print(\"Media das datas das reservações antecipadas: \" + str(int(total_days_distance/days_counter)))"
   ]
  },
  {
   "cell_type": "code",
   "execution_count": 29,
   "metadata": {},
   "outputs": [
    {
     "data": {
      "image/png": "[encoded data removed]",
      "text/plain": [
       "<Figure size 504x504 with 1 Axes>"
      ]
     },
     "metadata": {
      "needs_background": "light"
     },
     "output_type": "display_data"
    }
   ],
   "source": [
    "x = list(range(7))\n",
    "plt.figure(figsize=(7,7))\n",
    "plt.title(\"Reservas por dia da semana\")\n",
    "plt.xlabel(\"Dia da semana\")\n",
    "plt.ylabel(\"Reservas\")\n",
    "plt.xticks(x, list(frequencia_dia_reservacao.keys()))\n",
    "plt.bar(x, list(frequencia_dia_reservacao.values()))\n",
    "plt.show()"
   ]
  },
  {
   "cell_type": "markdown",
   "metadata": {},
   "source": [
    "Nesse último histograma podemos perceber que as datas de ocupação são relativamente uniformes, mas a data que os clientes mais usam para fazer a reservação é a sexta e a terça."
   ]
  },
  {
   "cell_type": "code",
   "execution_count": 30,
   "metadata": {},
   "outputs": [
    {
     "data": {
      "image/png": "[encoded data removed]",
      "text/plain": [
       "<Figure size 504x504 with 1 Axes>"
      ]
     },
     "metadata": {
      "needs_background": "light"
     },
     "output_type": "display_data"
    }
   ],
   "source": [
    "x = list(range(7))\n",
    "plt.figure(figsize=(7,7))\n",
    "plt.title(\"Reservas normalizadas por dia da semana\")\n",
    "plt.xlabel(\"Dia da semana\")\n",
    "plt.ylabel(\"Reservas normalizadas\")\n",
    "plt.xticks(x, list(frequencia_dia_reservacao.keys()))\n",
    "plt.bar(x, [i/max(frequencia_dia_reservacao.values()) for i in frequencia_dia_reservacao.values()])\n",
    "plt.show()"
   ]
  },
  {
   "cell_type": "markdown",
   "metadata": {},
   "source": [
    "O gráfico normalizado não é muito diferente do absoluto, as conclusões permanecem iguais."
   ]
  },
  {
   "cell_type": "markdown",
   "metadata": {},
   "source": [
    "Uma última análise para os dias de ocupação. Repetindo os mesmos procedimentos de visualização:"
   ]
  },
  {
   "cell_type": "code",
   "execution_count": 31,
   "metadata": {},
   "outputs": [
    {
     "name": "stdout",
     "output_type": "stream",
     "text": [
      "Segunda 19777\n",
      "Terça 19630\n",
      "Quarta 18398\n",
      "Quinta 18678\n",
      "Sexta 20950\n",
      "Sabado 22340\n",
      "Domingo 20735\n"
     ]
    },
    {
     "data": {
      "image/png": "[encoded data removed]",
      "text/plain": [
       "<Figure size 504x504 with 1 Axes>"
      ]
     },
     "metadata": {
      "needs_background": "light"
     },
     "output_type": "display_data"
    }
   ],
   "source": [
    "for day in frequencia_dia_ocupacao:\n",
    "    print(day, frequencia_dia_ocupacao[day])\n",
    "\n",
    "x = list(range(7))\n",
    "plt.figure(figsize=(7,7))\n",
    "plt.title(\"Ocupações no dia da semana\")\n",
    "plt.xlabel(\"Dia da semana\")\n",
    "plt.ylabel(\"Reservas\")\n",
    "plt.xticks(x, list(frequencia_dia_ocupacao.keys()))\n",
    "plt.bar(x, list(frequencia_dia_ocupacao.values()))\n",
    "plt.show()"
   ]
  },
  {
   "cell_type": "code",
   "execution_count": 32,
   "metadata": {},
   "outputs": [
    {
     "data": {
      "image/png": "[encoded data removed]",
      "text/plain": [
       "<Figure size 504x504 with 1 Axes>"
      ]
     },
     "metadata": {
      "needs_background": "light"
     },
     "output_type": "display_data"
    }
   ],
   "source": [
    "x = list(range(7))\n",
    "plt.figure(figsize=(7,7))\n",
    "plt.title(\"Ocupações no dia da semana\")\n",
    "plt.xlabel(\"Dia da semana\")\n",
    "plt.ylabel(\"Reservas\")\n",
    "plt.xticks(x, list(frequencia_dia_ocupacao.keys()))\n",
    "plt.bar(x, [i/max(frequencia_dia_ocupacao.values()) for i in frequencia_dia_ocupacao.values()])\n",
    "plt.show()"
   ]
  },
  {
   "cell_type": "markdown",
   "metadata": {},
   "source": [
    "Percebemos que os dias de ocupação são mais uniformes, sem muita preferência. Contudo, o sábado e domingo são vencedores por uma pequena margem."
   ]
  }
 ],
 "metadata": {
  "kernelspec": {
   "display_name": "Python 3",
   "language": "python",
   "name": "python3"
  },
  "language_info": {
   "codemirror_mode": {
    "name": "ipython",
    "version": 3
   },
   "file_extension": ".py",
   "mimetype": "text/x-python",
   "name": "python",
   "nbconvert_exporter": "python",
   "pygments_lexer": "ipython3",
   "version": "3.7.3"
  }
 },
 "nbformat": 4,
 "nbformat_minor": 4
}
