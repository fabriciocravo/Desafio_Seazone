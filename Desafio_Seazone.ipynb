{
 "cells": [
  {
   "cell_type": "markdown",
   "metadata": {},
   "source": [
    "# Esse é o código para resolução do desafio Seazone\n",
    "\n",
    "Ele consiste na análise de dados imobiliários.\n",
    "\n",
    "O Jupyter Notebook foi a ferramenta escolhida pela clareza do código e facilidade na visualização dos dados."
   ]
  },
  {
   "cell_type": "markdown",
   "metadata": {},
   "source": [
    "<h3> Começamos importando os módulos necessários em Python <\\h3>"
   ]
  },
  {
   "cell_type": "code",
   "execution_count": 1,
   "metadata": {},
   "outputs": [],
   "source": [
    "# Descomente e execute os comandos abaixo se o codigo não funcionar\n",
    "\n",
    "# !pip install pandas\n",
    "# !pip install numpy\n",
    "# !pip install datetime\n",
    "# !pip install matplotlib"
   ]
  },
  {
   "cell_type": "code",
   "execution_count": 2,
   "metadata": {},
   "outputs": [],
   "source": [
    "import pandas as pd # Representação dos dados\n",
    "import numpy as np # Calculos numericos e estatisticos\n",
    "import datetime # Facilitar os calculos envolvendo datas\n",
    "import matplotlib.pyplot as plt # Metodos para visualização dos dados"
   ]
  },
  {
   "cell_type": "markdown",
   "metadata": {},
   "source": [
    "O primeiro passo é abrir os arquivos .csv e representá-los na forma de um dataframe em Pandas"
   ]
  },
  {
   "cell_type": "code",
   "execution_count": 3,
   "metadata": {},
   "outputs": [],
   "source": [
    "diretorio_dados1 = \"./Data/desafio_details (1).csv\"\n",
    "diretorio_dados2 = \"./Data/desafio_priceav (1).csv\"\n",
    "\n",
    "data_details = pd.read_csv(diretorio_dados1)\n",
    "data_price = pd.read_csv(diretorio_dados2)"
   ]
  },
  {
   "cell_type": "markdown",
   "metadata": {},
   "source": [
    "Agora a visualização inicial dos dataframes"
   ]
  },
  {
   "cell_type": "code",
   "execution_count": 4,
   "metadata": {},
   "outputs": [
    {
     "name": "stdout",
     "output_type": "stream",
     "text": [
      "Dataset detais\n"
     ]
    },
    {
     "data": {
      "text/html": [
       "<div>\n",
       "<style scoped>\n",
       "    .dataframe tbody tr th:only-of-type {\n",
       "        vertical-align: middle;\n",
       "    }\n",
       "\n",
       "    .dataframe tbody tr th {\n",
       "        vertical-align: top;\n",
       "    }\n",
       "\n",
       "    .dataframe thead th {\n",
       "        text-align: right;\n",
       "    }\n",
       "</style>\n",
       "<table border=\"1\" class=\"dataframe\">\n",
       "  <thead>\n",
       "    <tr style=\"text-align: right;\">\n",
       "      <th></th>\n",
       "      <th>Unnamed: 0</th>\n",
       "      <th>airbnb_listing_id</th>\n",
       "      <th>suburb</th>\n",
       "      <th>ad_name</th>\n",
       "      <th>number_of_bedrooms</th>\n",
       "      <th>number_of_bathrooms</th>\n",
       "      <th>star_rating</th>\n",
       "      <th>is_superhost</th>\n",
       "      <th>number_of_reviews</th>\n",
       "    </tr>\n",
       "  </thead>\n",
       "  <tbody>\n",
       "    <tr>\n",
       "      <th>0</th>\n",
       "      <td>0</td>\n",
       "      <td>31389869</td>\n",
       "      <td>Jurerê</td>\n",
       "      <td>Lindo Apartamento em Jurerê</td>\n",
       "      <td>2.0</td>\n",
       "      <td>2.0</td>\n",
       "      <td>5.0</td>\n",
       "      <td>False</td>\n",
       "      <td>15.0</td>\n",
       "    </tr>\n",
       "    <tr>\n",
       "      <th>1</th>\n",
       "      <td>1</td>\n",
       "      <td>40010667</td>\n",
       "      <td>Canasvieiras</td>\n",
       "      <td>Residencial Arruda, 1 quarto</td>\n",
       "      <td>1.0</td>\n",
       "      <td>1.0</td>\n",
       "      <td>NaN</td>\n",
       "      <td>False</td>\n",
       "      <td>0.0</td>\n",
       "    </tr>\n",
       "    <tr>\n",
       "      <th>2</th>\n",
       "      <td>2</td>\n",
       "      <td>38905997</td>\n",
       "      <td>Ingleses</td>\n",
       "      <td>Apartamento NOVO Completo - Moderno e Sofisticado</td>\n",
       "      <td>1.0</td>\n",
       "      <td>1.0</td>\n",
       "      <td>4.5</td>\n",
       "      <td>True</td>\n",
       "      <td>13.0</td>\n",
       "    </tr>\n",
       "    <tr>\n",
       "      <th>3</th>\n",
       "      <td>3</td>\n",
       "      <td>22343656</td>\n",
       "      <td>Ingleses</td>\n",
       "      <td>06- Apartamento 02 habitaciones</td>\n",
       "      <td>2.0</td>\n",
       "      <td>1.0</td>\n",
       "      <td>5.0</td>\n",
       "      <td>True</td>\n",
       "      <td>28.0</td>\n",
       "    </tr>\n",
       "    <tr>\n",
       "      <th>4</th>\n",
       "      <td>4</td>\n",
       "      <td>18328184</td>\n",
       "      <td>Canasvieiras</td>\n",
       "      <td>Apto 2 quartos em Canasvieiras, Florianopolis!</td>\n",
       "      <td>2.0</td>\n",
       "      <td>1.0</td>\n",
       "      <td>5.0</td>\n",
       "      <td>True</td>\n",
       "      <td>35.0</td>\n",
       "    </tr>\n",
       "  </tbody>\n",
       "</table>\n",
       "</div>"
      ],
      "text/plain": [
       "   Unnamed: 0  airbnb_listing_id        suburb  \\\n",
       "0           0           31389869        Jurerê   \n",
       "1           1           40010667  Canasvieiras   \n",
       "2           2           38905997      Ingleses   \n",
       "3           3           22343656      Ingleses   \n",
       "4           4           18328184  Canasvieiras   \n",
       "\n",
       "                                             ad_name  number_of_bedrooms  \\\n",
       "0                        Lindo Apartamento em Jurerê                 2.0   \n",
       "1                       Residencial Arruda, 1 quarto                 1.0   \n",
       "2  Apartamento NOVO Completo - Moderno e Sofisticado                 1.0   \n",
       "3                    06- Apartamento 02 habitaciones                 2.0   \n",
       "4     Apto 2 quartos em Canasvieiras, Florianopolis!                 2.0   \n",
       "\n",
       "   number_of_bathrooms  star_rating  is_superhost  number_of_reviews  \n",
       "0                  2.0          5.0         False               15.0  \n",
       "1                  1.0          NaN         False                0.0  \n",
       "2                  1.0          4.5          True               13.0  \n",
       "3                  1.0          5.0          True               28.0  \n",
       "4                  1.0          5.0          True               35.0  "
      ]
     },
     "execution_count": 4,
     "metadata": {},
     "output_type": "execute_result"
    }
   ],
   "source": [
    "print(\"Dataset detais\")\n",
    "data_details.head()"
   ]
  },
  {
   "cell_type": "code",
   "execution_count": 5,
   "metadata": {},
   "outputs": [
    {
     "name": "stdout",
     "output_type": "stream",
     "text": [
      "Dataset Price\n"
     ]
    },
    {
     "data": {
      "text/html": [
       "<div>\n",
       "<style scoped>\n",
       "    .dataframe tbody tr th:only-of-type {\n",
       "        vertical-align: middle;\n",
       "    }\n",
       "\n",
       "    .dataframe tbody tr th {\n",
       "        vertical-align: top;\n",
       "    }\n",
       "\n",
       "    .dataframe thead th {\n",
       "        text-align: right;\n",
       "    }\n",
       "</style>\n",
       "<table border=\"1\" class=\"dataframe\">\n",
       "  <thead>\n",
       "    <tr style=\"text-align: right;\">\n",
       "      <th></th>\n",
       "      <th>Unnamed: 0</th>\n",
       "      <th>Unnamed: 0.1</th>\n",
       "      <th>airbnb_listing_id</th>\n",
       "      <th>booked_on</th>\n",
       "      <th>date</th>\n",
       "      <th>price_string</th>\n",
       "      <th>occupied</th>\n",
       "    </tr>\n",
       "  </thead>\n",
       "  <tbody>\n",
       "    <tr>\n",
       "      <th>0</th>\n",
       "      <td>0</td>\n",
       "      <td>2148</td>\n",
       "      <td>40201349</td>\n",
       "      <td>blank</td>\n",
       "      <td>2020-11-15</td>\n",
       "      <td>250.0</td>\n",
       "      <td>0</td>\n",
       "    </tr>\n",
       "    <tr>\n",
       "      <th>1</th>\n",
       "      <td>1</td>\n",
       "      <td>2159</td>\n",
       "      <td>40201349</td>\n",
       "      <td>blank</td>\n",
       "      <td>2020-11-26</td>\n",
       "      <td>250.0</td>\n",
       "      <td>0</td>\n",
       "    </tr>\n",
       "    <tr>\n",
       "      <th>2</th>\n",
       "      <td>2</td>\n",
       "      <td>2160</td>\n",
       "      <td>40201349</td>\n",
       "      <td>blank</td>\n",
       "      <td>2020-11-27</td>\n",
       "      <td>250.0</td>\n",
       "      <td>0</td>\n",
       "    </tr>\n",
       "    <tr>\n",
       "      <th>3</th>\n",
       "      <td>3</td>\n",
       "      <td>2173</td>\n",
       "      <td>40201349</td>\n",
       "      <td>blank</td>\n",
       "      <td>2020-12-10</td>\n",
       "      <td>250.0</td>\n",
       "      <td>0</td>\n",
       "    </tr>\n",
       "    <tr>\n",
       "      <th>4</th>\n",
       "      <td>4</td>\n",
       "      <td>2226</td>\n",
       "      <td>40201349</td>\n",
       "      <td>blank</td>\n",
       "      <td>2021-02-01</td>\n",
       "      <td>250.0</td>\n",
       "      <td>0</td>\n",
       "    </tr>\n",
       "  </tbody>\n",
       "</table>\n",
       "</div>"
      ],
      "text/plain": [
       "   Unnamed: 0  Unnamed: 0.1  airbnb_listing_id booked_on        date  \\\n",
       "0           0          2148           40201349     blank  2020-11-15   \n",
       "1           1          2159           40201349     blank  2020-11-26   \n",
       "2           2          2160           40201349     blank  2020-11-27   \n",
       "3           3          2173           40201349     blank  2020-12-10   \n",
       "4           4          2226           40201349     blank  2021-02-01   \n",
       "\n",
       "   price_string  occupied  \n",
       "0         250.0         0  \n",
       "1         250.0         0  \n",
       "2         250.0         0  \n",
       "3         250.0         0  \n",
       "4         250.0         0  "
      ]
     },
     "execution_count": 5,
     "metadata": {},
     "output_type": "execute_result"
    }
   ],
   "source": [
    "print(\"Dataset Price\")\n",
    "data_price.head()"
   ]
  },
  {
   "cell_type": "markdown",
   "metadata": {},
   "source": [
    "Análise no número de features e tamanho."
   ]
  },
  {
   "cell_type": "code",
   "execution_count": 6,
   "metadata": {},
   "outputs": [
    {
     "name": "stdout",
     "output_type": "stream",
     "text": [
      "(4691, 9)\n",
      "(354520, 7)\n"
     ]
    }
   ],
   "source": [
    "print(data_details.shape)\n",
    "print(data_price.shape)"
   ]
  },
  {
   "cell_type": "markdown",
   "metadata": {},
   "source": [
    "O csv parece ter sido extraído de um database relacional SQL, ou se beneficiaria muito de ser organizado nesse tipo de database.\n",
    "\n",
    "Contudo, como a transformação em SQL pode ser custosa em tempo de computação, os dados serão analisados em pandas. O Pandas possui também operações de vetorização que garantem uma boa eficiência.\n",
    "\n",
    "Seria recomendado adicionar os dados a esse tipo de database se diversas consultas relacionais forem necessárias, já que as consultas poderiam ser otimizadas com indexações e hashes."
   ]
  },
  {
   "cell_type": "markdown",
   "metadata": {},
   "source": [
    "# 1 Tarefa\n",
    "\n",
    "Ordenar os bairros.\n",
    "\n",
    "Começamos construindo o dicionário para armazenar os listings por bairro.\n",
    "\n",
    "E verificando os nomes dos bairros diferentes estudados."
   ]
  },
  {
   "cell_type": "code",
   "execution_count": 7,
   "metadata": {},
   "outputs": [
    {
     "name": "stdout",
     "output_type": "stream",
     "text": [
      "['Jurerê' 'Canasvieiras' 'Ingleses' 'Lagoa da Conceição' 'Centro']\n"
     ]
    }
   ],
   "source": [
    "# Nesse codigo vamos realizar algo similar a operação do database relacional\n",
    "# Com diacionarios com hash optimal para aumentar a velocidade do codigo\n",
    "\n",
    "# Extraindo os nomes do bairro do dataframe\n",
    "bairros_nome = data_details.loc[:, \"suburb\"].unique()\n",
    "print(bairros_nome)\n",
    "\n",
    "# Criação do dicionario para contar os listings\n",
    "listings_bairro = {}\n",
    "for bairro in bairros_nome:\n",
    "    listings_bairro[bairro] = 0"
   ]
  },
  {
   "cell_type": "markdown",
   "metadata": {},
   "source": [
    "Agora é necessário criar um hash entre os listings e os bairros para fácil acesso."
   ]
  },
  {
   "cell_type": "code",
   "execution_count": 8,
   "metadata": {},
   "outputs": [],
   "source": [
    "# Criação de um hash entre listings e bairros para rapido acesso\n",
    "hash_listing_bairro = {}\n",
    "\n",
    "for listing, bairro in zip(data_details.loc[:, \"airbnb_listing_id\"], data_details.loc[:, \"suburb\"]):\n",
    "    hash_listing_bairro[listing] = bairro"
   ]
  },
  {
   "cell_type": "markdown",
   "metadata": {},
   "source": [
    "Agora devemos ler o número de listings e utilizar o hash\n",
    "\n",
    "Para isso contamos o número de listintins por id usando a função value counts e depois usamos o hash para converter no número de listings por bairro.\n",
    "\n",
    "Como nem todos os listings dos faturamentos individuais estão na outra tabela, usamos o exception para desconsiderar elas do cálculo."
   ]
  },
  {
   "cell_type": "code",
   "execution_count": 9,
   "metadata": {},
   "outputs": [
    {
     "name": "stdout",
     "output_type": "stream",
     "text": [
      "False\n"
     ]
    }
   ],
   "source": [
    "counts_per_listing = dict(data_price[\"airbnb_listing_id\"].value_counts())\n",
    "\n",
    "# Nem todos os listings estao na tabela original\n",
    "print(\"34150577\" in str(data_details.loc[:, \"airbnb_listing_id\"].unique()))\n",
    "\n",
    "for listing in counts_per_listing.keys():\n",
    "    try:\n",
    "        bairro = hash_listing_bairro[listing]\n",
    "        listings_bairro[bairro] = listings_bairro[bairro] + counts_per_listing[listing]\n",
    "    except KeyError:\n",
    "        continue\n",
    "    "
   ]
  },
  {
   "cell_type": "markdown",
   "metadata": {},
   "source": [
    "Agora, ordenarmos o dicionário usando os valores obtidos."
   ]
  },
  {
   "cell_type": "code",
   "execution_count": 10,
   "metadata": {},
   "outputs": [
    {
     "name": "stdout",
     "output_type": "stream",
     "text": [
      "Ingleses 176864\n",
      "Canasvieiras 92186\n",
      "Jurerê 42857\n",
      "Lagoa da Conceição 23431\n",
      "Centro 19182\n"
     ]
    }
   ],
   "source": [
    "listings_bairro_sorted = dict(sorted(listings_bairro.items(), key=lambda item: item[1], reverse=True))\n",
    "for key in listings_bairro_sorted:\n",
    "    print(key, listings_bairro_sorted[key])"
   ]
  },
  {
   "cell_type": "markdown",
   "metadata": {},
   "source": [
    "O gráfico de barras para melhor visualização"
   ]
  },
  {
   "cell_type": "code",
   "execution_count": 11,
   "metadata": {},
   "outputs": [
    {
     "data": {
      "image/png": "[encoded data removed]",
      "text/plain": [
       "<Figure size 504x504 with 1 Axes>"
      ]
     },
     "metadata": {
      "needs_background": "light"
     },
     "output_type": "display_data"
    }
   ],
   "source": [
    "x = list(range(len(listings_bairro_sorted)))\n",
    "plt.figure(figsize=(7,7))\n",
    "plt.title(\"Num. de listings por Bairro\")\n",
    "plt.xlabel(\"Bairro\")\n",
    "plt.ylabel(\"Num. de listings\")\n",
    "plt.xticks(x, list(listings_bairro_sorted.keys()))\n",
    "plt.bar(x, list(listings_bairro_sorted.values()))\n",
    "plt.show()"
   ]
  },
  {
   "cell_type": "markdown",
   "metadata": {},
   "source": [
    "# Tarefa 2\n",
    "\n",
    "Para realização da tarefa 2 começaremos calculando o faturamento por listing e adicionando ao dataframe data_details\n",
    "\n",
    "Isso foi feito para facilitar a resolução da questão 3 que envolve também dados de faturamento."
   ]
  },
  {
   "cell_type": "code",
   "execution_count": 12,
   "metadata": {},
   "outputs": [],
   "source": [
    "# Separar as variaveis de listing_ids para vetorização\n",
    "listings_ids = list(data_details.loc[:, \"airbnb_listing_id\"])\n",
    "\n",
    "faturamento = []\n",
    "for list_id in listings_ids:\n",
    "    faturamento.append(sum(data_price[data_price[\"airbnb_listing_id\"] == list_id][\"price_string\"]))\n",
    "    \n",
    "# Adicionando o faturamento ao dataframe\n",
    "data_details[\"Faturamento\"] = faturamento"
   ]
  },
  {
   "cell_type": "markdown",
   "metadata": {},
   "source": [
    "Visualização da nova tabela"
   ]
  },
  {
   "cell_type": "code",
   "execution_count": 13,
   "metadata": {},
   "outputs": [
    {
     "data": {
      "text/html": [
       "<div>\n",
       "<style scoped>\n",
       "    .dataframe tbody tr th:only-of-type {\n",
       "        vertical-align: middle;\n",
       "    }\n",
       "\n",
       "    .dataframe tbody tr th {\n",
       "        vertical-align: top;\n",
       "    }\n",
       "\n",
       "    .dataframe thead th {\n",
       "        text-align: right;\n",
       "    }\n",
       "</style>\n",
       "<table border=\"1\" class=\"dataframe\">\n",
       "  <thead>\n",
       "    <tr style=\"text-align: right;\">\n",
       "      <th></th>\n",
       "      <th>Unnamed: 0</th>\n",
       "      <th>airbnb_listing_id</th>\n",
       "      <th>suburb</th>\n",
       "      <th>ad_name</th>\n",
       "      <th>number_of_bedrooms</th>\n",
       "      <th>number_of_bathrooms</th>\n",
       "      <th>star_rating</th>\n",
       "      <th>is_superhost</th>\n",
       "      <th>number_of_reviews</th>\n",
       "      <th>Faturamento</th>\n",
       "    </tr>\n",
       "  </thead>\n",
       "  <tbody>\n",
       "    <tr>\n",
       "      <th>0</th>\n",
       "      <td>0</td>\n",
       "      <td>31389869</td>\n",
       "      <td>Jurerê</td>\n",
       "      <td>Lindo Apartamento em Jurerê</td>\n",
       "      <td>2.0</td>\n",
       "      <td>2.0</td>\n",
       "      <td>5.0</td>\n",
       "      <td>False</td>\n",
       "      <td>15.0</td>\n",
       "      <td>13510.0</td>\n",
       "    </tr>\n",
       "    <tr>\n",
       "      <th>1</th>\n",
       "      <td>1</td>\n",
       "      <td>40010667</td>\n",
       "      <td>Canasvieiras</td>\n",
       "      <td>Residencial Arruda, 1 quarto</td>\n",
       "      <td>1.0</td>\n",
       "      <td>1.0</td>\n",
       "      <td>NaN</td>\n",
       "      <td>False</td>\n",
       "      <td>0.0</td>\n",
       "      <td>35740.0</td>\n",
       "    </tr>\n",
       "    <tr>\n",
       "      <th>2</th>\n",
       "      <td>2</td>\n",
       "      <td>38905997</td>\n",
       "      <td>Ingleses</td>\n",
       "      <td>Apartamento NOVO Completo - Moderno e Sofisticado</td>\n",
       "      <td>1.0</td>\n",
       "      <td>1.0</td>\n",
       "      <td>4.5</td>\n",
       "      <td>True</td>\n",
       "      <td>13.0</td>\n",
       "      <td>16806.0</td>\n",
       "    </tr>\n",
       "    <tr>\n",
       "      <th>3</th>\n",
       "      <td>3</td>\n",
       "      <td>22343656</td>\n",
       "      <td>Ingleses</td>\n",
       "      <td>06- Apartamento 02 habitaciones</td>\n",
       "      <td>2.0</td>\n",
       "      <td>1.0</td>\n",
       "      <td>5.0</td>\n",
       "      <td>True</td>\n",
       "      <td>28.0</td>\n",
       "      <td>0.0</td>\n",
       "    </tr>\n",
       "    <tr>\n",
       "      <th>4</th>\n",
       "      <td>4</td>\n",
       "      <td>18328184</td>\n",
       "      <td>Canasvieiras</td>\n",
       "      <td>Apto 2 quartos em Canasvieiras, Florianopolis!</td>\n",
       "      <td>2.0</td>\n",
       "      <td>1.0</td>\n",
       "      <td>5.0</td>\n",
       "      <td>True</td>\n",
       "      <td>35.0</td>\n",
       "      <td>26825.0</td>\n",
       "    </tr>\n",
       "  </tbody>\n",
       "</table>\n",
       "</div>"
      ],
      "text/plain": [
       "   Unnamed: 0  airbnb_listing_id        suburb  \\\n",
       "0           0           31389869        Jurerê   \n",
       "1           1           40010667  Canasvieiras   \n",
       "2           2           38905997      Ingleses   \n",
       "3           3           22343656      Ingleses   \n",
       "4           4           18328184  Canasvieiras   \n",
       "\n",
       "                                             ad_name  number_of_bedrooms  \\\n",
       "0                        Lindo Apartamento em Jurerê                 2.0   \n",
       "1                       Residencial Arruda, 1 quarto                 1.0   \n",
       "2  Apartamento NOVO Completo - Moderno e Sofisticado                 1.0   \n",
       "3                    06- Apartamento 02 habitaciones                 2.0   \n",
       "4     Apto 2 quartos em Canasvieiras, Florianopolis!                 2.0   \n",
       "\n",
       "   number_of_bathrooms  star_rating  is_superhost  number_of_reviews  \\\n",
       "0                  2.0          5.0         False               15.0   \n",
       "1                  1.0          NaN         False                0.0   \n",
       "2                  1.0          4.5          True               13.0   \n",
       "3                  1.0          5.0          True               28.0   \n",
       "4                  1.0          5.0          True               35.0   \n",
       "\n",
       "   Faturamento  \n",
       "0      13510.0  \n",
       "1      35740.0  \n",
       "2      16806.0  \n",
       "3          0.0  \n",
       "4      26825.0  "
      ]
     },
     "execution_count": 13,
     "metadata": {},
     "output_type": "execute_result"
    }
   ],
   "source": [
    "data_details.head()"
   ]
  },
  {
   "cell_type": "markdown",
   "metadata": {},
   "source": [
    "Agora é apenas uma questão de vetorização para encontrar o faturamento por bairro"
   ]
  },
  {
   "cell_type": "code",
   "execution_count": 14,
   "metadata": {},
   "outputs": [
    {
     "name": "stdout",
     "output_type": "stream",
     "text": [
      "Ingleses 61968020.0\n",
      "Canasvieiras 26970963.0\n",
      "Jurerê 17403150.0\n",
      "Lagoa da Conceição 5869797.0\n",
      "Centro 4202565.0\n"
     ]
    }
   ],
   "source": [
    "# Calculo do faturamento por bairro\n",
    "faturamento_por_bairro = {}\n",
    "for bairro in bairros_nome:\n",
    "    faturamento_por_bairro[bairro] = sum(data_details[data_details[\"suburb\"] == bairro][\"Faturamento\"])\n",
    "    \n",
    "# Colocar na ordem correta\n",
    "faturamento_por_bairro_sorted = dict(sorted(faturamento_por_bairro.items(), key=lambda item: item[1], reverse=True))\n",
    "for key in faturamento_por_bairro_sorted:\n",
    "    print(key, faturamento_por_bairro_sorted[key])"
   ]
  },
  {
   "cell_type": "markdown",
   "metadata": {},
   "source": [
    "Novamente o gráfico de barras para melhor visualização"
   ]
  },
  {
   "cell_type": "code",
   "execution_count": 15,
   "metadata": {},
   "outputs": [
    {
     "data": {
      "image/png": "[encoded data removed]",
      "text/plain": [
       "<Figure size 504x504 with 1 Axes>"
      ]
     },
     "metadata": {
      "needs_background": "light"
     },
     "output_type": "display_data"
    }
   ],
   "source": [
    "x = list(range(len(faturamento_por_bairro)))\n",
    "plt.figure(figsize=(7,7))\n",
    "plt.title(\"Faturamento por bairro\")\n",
    "plt.xlabel(\"Bairro\")\n",
    "plt.ylabel(\"Faturamento\")\n",
    "plt.xticks(x, list(faturamento_por_bairro_sorted.keys()))\n",
    "plt.bar(x, list(faturamento_por_bairro_sorted.values()))\n",
    "plt.show()"
   ]
  },
  {
   "cell_type": "markdown",
   "metadata": {},
   "source": [
    "<h4> 2 Tarefa Extra </h4>\n",
    "\n",
    "Outro valor interessante ser calculado é o faturamento por listing. Como os bairros podem ser de tamanhos diferentes e possuir um número diferente de listagens."
   ]
  },
  {
   "cell_type": "code",
   "execution_count": 16,
   "metadata": {},
   "outputs": [
    {
     "name": "stdout",
     "output_type": "stream",
     "text": [
      "Jurerê 406.07485358284526\n",
      "Ingleses 350.3710195404378\n",
      "Canasvieiras 292.57113878463105\n",
      "Lagoa da Conceição 250.51414792369084\n",
      "Centro 219.08898967782295\n"
     ]
    },
    {
     "data": {
      "image/png": "[encoded data removed]",
      "text/plain": [
       "<Figure size 504x504 with 1 Axes>"
      ]
     },
     "metadata": {
      "needs_background": "light"
     },
     "output_type": "display_data"
    }
   ],
   "source": [
    "# Normalizando os faturamentos de cada bairro por listing\n",
    "faturamento_por_bairro_normalizado = {}\n",
    "\n",
    "for bairro in bairros_nome:\n",
    "       faturamento_por_bairro_normalizado[bairro] = faturamento_por_bairro_sorted[bairro]/listings_bairro_sorted[bairro]\n",
    "        \n",
    "# Ordenando o dicionario\n",
    "faturamento_por_bairro_normalizado = dict(sorted(faturamento_por_bairro_normalizado.items(), key=lambda item: item[1], reverse=True))\n",
    "\n",
    "for key in faturamento_por_bairro_normalizado:\n",
    "    print(key, faturamento_por_bairro_normalizado[key])\n",
    "        \n",
    "x = list(range(len(faturamento_por_bairro)))\n",
    "plt.figure(figsize=(7,7))\n",
    "plt.title(\"Faturamento normalizado por bairro\")\n",
    "plt.xlabel(\"Bairro\")\n",
    "plt.ylabel(\"Faturamento normalizado\")\n",
    "plt.tick_params(axis='x', which='major', labelsize=8)\n",
    "plt.xticks(x, list(faturamento_por_bairro_normalizado.keys()))\n",
    "plt.bar(x, list(faturamento_por_bairro_normalizado.values()))\n",
    "plt.show()"
   ]
  },
  {
   "cell_type": "markdown",
   "metadata": {},
   "source": [
    "O faturamento normalizado modifica completamente a ordem, esse resultado pode mudar as decisões estratégicas."
   ]
  },
  {
   "cell_type": "markdown",
   "metadata": {},
   "source": [
    "# 3 Tarefa"
   ]
  },
  {
   "cell_type": "markdown",
   "metadata": {},
   "source": [
    "Como o dataframe foi otimizado na segunda tarefa a terceira é obtida diretamente da chamada de correlação do Pandas.\n",
    "\n",
    "Primeiramente a correlação pode ser calculada com valores numéricos então realizamos uma substituição. Como estamos interessados na relação entre o nome do bairro e o faturamento substituímos os bairros com maior faturamento pelos maiores valores.\n",
    "\n",
    "Aqui precisamos fazer certas operações de limpeza nos dados, removendo a coluna \"Unamed: 0\". \n",
    "\n",
    "Removemos o ad_name pois não sera utilizado no cálculo da correlação."
   ]
  },
  {
   "cell_type": "code",
   "execution_count": 17,
   "metadata": {},
   "outputs": [
    {
     "name": "stdout",
     "output_type": "stream",
     "text": [
      "['airbnb_listing_id', 'suburb', 'ad_name', 'number_of_bedrooms', 'number_of_bathrooms', 'star_rating', 'is_superhost', 'number_of_reviews', 'Faturamento']\n"
     ]
    }
   ],
   "source": [
    "# Aqui removemos as colunas não utilizadas para correlação\n",
    "# O try except esta aqui para não termos problemas reutilização do codigo\n",
    "data_details_features = []\n",
    "for feature in data_details:\n",
    "    data_details_features.append(feature)\n",
    "\n",
    "try:\n",
    "    index_unnamed = data_details_features.index(\"Unnamed: 0\")\n",
    "    data_details_features.pop(index_unnamed)\n",
    "    data_details.drop(data_details.columns[index_unnamed], axis=1, inplace=True)\n",
    "    index_ad_name = data_details_features.index(\"ad_name\")\n",
    "    data_details.drop(data_details.columns[index_ad_name], axis=1, inplace=True)\n",
    "except KeyError:\n",
    "    pass\n",
    "except ValueError:\n",
    "    pass\n",
    "print(data_details_features)\n",
    "\n",
    "# Trocamos para valores numericos para o calculo da correlação\n",
    "dicionario_processamento_bairros_para_numero = {}\n",
    "for i,bairro in enumerate(reversed(list(faturamento_por_bairro_sorted.keys()))):\n",
    "    dicionario_processamento_bairros_para_numero[bairro] = i\n",
    "\n",
    "dicionario_processamento_superhost_para_numero = {False:0, True:1}\n",
    "try:\n",
    "    data_details[\"is_superhost\"].replace(dicionario_processamento_superhost_para_numero, inplace=True)\n",
    "    data_details[\"suburb\"].replace(dicionario_processamento_bairros_para_numero, inplace=True)\n",
    "except TypeError:\n",
    "    pass"
   ]
  },
  {
   "cell_type": "markdown",
   "metadata": {},
   "source": [
    "A cada operação de mudança é importante visualizar o dataframe"
   ]
  },
  {
   "cell_type": "code",
   "execution_count": 18,
   "metadata": {},
   "outputs": [
    {
     "data": {
      "text/html": [
       "<div>\n",
       "<style scoped>\n",
       "    .dataframe tbody tr th:only-of-type {\n",
       "        vertical-align: middle;\n",
       "    }\n",
       "\n",
       "    .dataframe tbody tr th {\n",
       "        vertical-align: top;\n",
       "    }\n",
       "\n",
       "    .dataframe thead th {\n",
       "        text-align: right;\n",
       "    }\n",
       "</style>\n",
       "<table border=\"1\" class=\"dataframe\">\n",
       "  <thead>\n",
       "    <tr style=\"text-align: right;\">\n",
       "      <th></th>\n",
       "      <th>airbnb_listing_id</th>\n",
       "      <th>suburb</th>\n",
       "      <th>number_of_bedrooms</th>\n",
       "      <th>number_of_bathrooms</th>\n",
       "      <th>star_rating</th>\n",
       "      <th>is_superhost</th>\n",
       "      <th>number_of_reviews</th>\n",
       "      <th>Faturamento</th>\n",
       "    </tr>\n",
       "  </thead>\n",
       "  <tbody>\n",
       "    <tr>\n",
       "      <th>0</th>\n",
       "      <td>31389869</td>\n",
       "      <td>2</td>\n",
       "      <td>2.0</td>\n",
       "      <td>2.0</td>\n",
       "      <td>5.0</td>\n",
       "      <td>0</td>\n",
       "      <td>15.0</td>\n",
       "      <td>13510.0</td>\n",
       "    </tr>\n",
       "    <tr>\n",
       "      <th>1</th>\n",
       "      <td>40010667</td>\n",
       "      <td>3</td>\n",
       "      <td>1.0</td>\n",
       "      <td>1.0</td>\n",
       "      <td>NaN</td>\n",
       "      <td>0</td>\n",
       "      <td>0.0</td>\n",
       "      <td>35740.0</td>\n",
       "    </tr>\n",
       "    <tr>\n",
       "      <th>2</th>\n",
       "      <td>38905997</td>\n",
       "      <td>4</td>\n",
       "      <td>1.0</td>\n",
       "      <td>1.0</td>\n",
       "      <td>4.5</td>\n",
       "      <td>1</td>\n",
       "      <td>13.0</td>\n",
       "      <td>16806.0</td>\n",
       "    </tr>\n",
       "    <tr>\n",
       "      <th>3</th>\n",
       "      <td>22343656</td>\n",
       "      <td>4</td>\n",
       "      <td>2.0</td>\n",
       "      <td>1.0</td>\n",
       "      <td>5.0</td>\n",
       "      <td>1</td>\n",
       "      <td>28.0</td>\n",
       "      <td>0.0</td>\n",
       "    </tr>\n",
       "    <tr>\n",
       "      <th>4</th>\n",
       "      <td>18328184</td>\n",
       "      <td>3</td>\n",
       "      <td>2.0</td>\n",
       "      <td>1.0</td>\n",
       "      <td>5.0</td>\n",
       "      <td>1</td>\n",
       "      <td>35.0</td>\n",
       "      <td>26825.0</td>\n",
       "    </tr>\n",
       "  </tbody>\n",
       "</table>\n",
       "</div>"
      ],
      "text/plain": [
       "   airbnb_listing_id  suburb  number_of_bedrooms  number_of_bathrooms  \\\n",
       "0           31389869       2                 2.0                  2.0   \n",
       "1           40010667       3                 1.0                  1.0   \n",
       "2           38905997       4                 1.0                  1.0   \n",
       "3           22343656       4                 2.0                  1.0   \n",
       "4           18328184       3                 2.0                  1.0   \n",
       "\n",
       "   star_rating  is_superhost  number_of_reviews  Faturamento  \n",
       "0          5.0             0               15.0      13510.0  \n",
       "1          NaN             0                0.0      35740.0  \n",
       "2          4.5             1               13.0      16806.0  \n",
       "3          5.0             1               28.0          0.0  \n",
       "4          5.0             1               35.0      26825.0  "
      ]
     },
     "execution_count": 18,
     "metadata": {},
     "output_type": "execute_result"
    }
   ],
   "source": [
    "data_details.head()"
   ]
  },
  {
   "cell_type": "code",
   "execution_count": 19,
   "metadata": {},
   "outputs": [
    {
     "name": "stdout",
     "output_type": "stream",
     "text": [
      "                     airbnb_listing_id    suburb  number_of_bedrooms  \\\n",
      "airbnb_listing_id             1.000000  0.017796           -0.051791   \n",
      "suburb                        0.017796  1.000000            0.184511   \n",
      "number_of_bedrooms           -0.051791  0.184511            1.000000   \n",
      "number_of_bathrooms          -0.047441  0.181385            0.745900   \n",
      "star_rating                  -0.013159 -0.031674           -0.013281   \n",
      "is_superhost                 -0.082513 -0.145459           -0.102447   \n",
      "number_of_reviews            -0.347276 -0.247246           -0.097374   \n",
      "Faturamento                   0.036830  0.061871            0.124927   \n",
      "\n",
      "                     number_of_bathrooms  star_rating  is_superhost  \\\n",
      "airbnb_listing_id              -0.047441    -0.013159     -0.082513   \n",
      "suburb                          0.181385    -0.031674     -0.145459   \n",
      "number_of_bedrooms              0.745900    -0.013281     -0.102447   \n",
      "number_of_bathrooms             1.000000     0.005792     -0.095708   \n",
      "star_rating                     0.005792     1.000000      0.197986   \n",
      "is_superhost                   -0.095708     0.197986      1.000000   \n",
      "number_of_reviews              -0.081508     0.121011      0.351177   \n",
      "Faturamento                     0.145818     0.049635      0.032814   \n",
      "\n",
      "                     number_of_reviews  Faturamento  \n",
      "airbnb_listing_id            -0.347276     0.036830  \n",
      "suburb                       -0.247246     0.061871  \n",
      "number_of_bedrooms           -0.097374     0.124927  \n",
      "number_of_bathrooms          -0.081508     0.145818  \n",
      "star_rating                   0.121011     0.049635  \n",
      "is_superhost                  0.351177     0.032814  \n",
      "number_of_reviews             1.000000     0.044416  \n",
      "Faturamento                   0.044416     1.000000  \n"
     ]
    }
   ],
   "source": [
    "# Usamos min_periods = 2 para evitar que valores singulares sejam usados no calculo de correlação\n",
    "correlation = data_details.corr(method='pearson', min_periods=1)\n",
    "print(correlation)"
   ]
  },
  {
   "cell_type": "markdown",
   "metadata": {},
   "source": [
    "Agora extraímos a parte da correlação com o fraturamento"
   ]
  },
  {
   "cell_type": "code",
   "execution_count": 20,
   "metadata": {},
   "outputs": [],
   "source": [
    "faturamento_corelaçao = correlation[\"Faturamento\"][:-1]"
   ]
  },
  {
   "cell_type": "markdown",
   "metadata": {},
   "source": [
    "Finalmente os valores de correlação normalizados e o bar graph"
   ]
  },
  {
   "cell_type": "code",
   "execution_count": 21,
   "metadata": {},
   "outputs": [
    {
     "name": "stdout",
     "output_type": "stream",
     "text": [
      "airbnb_listing_id      0.036830\n",
      "suburb                 0.061871\n",
      "number_of_bedrooms     0.124927\n",
      "number_of_bathrooms    0.145818\n",
      "star_rating            0.049635\n",
      "is_superhost           0.032814\n",
      "number_of_reviews      0.044416\n",
      "Name: Faturamento, dtype: float64\n"
     ]
    },
    {
     "data": {
      "image/png": "[encoded data removed]",
      "text/plain": [
       "<Figure size 504x504 with 1 Axes>"
      ]
     },
     "metadata": {
      "needs_background": "light"
     },
     "output_type": "display_data"
    }
   ],
   "source": [
    "print(faturamento_corelaçao)\n",
    "\n",
    "for i,feature in enumerate(data_details):\n",
    "    data_details_features[i] = feature.split(\"_\")[-1]    \n",
    "\n",
    "x = list(range(len(faturamento_corelaçao)))\n",
    "plt.figure(figsize=(7,7))\n",
    "plt.title(\"Correlação entre diferentes features\")\n",
    "plt.xlabel(\"Features\")\n",
    "plt.ylabel(\"Correlação\")\n",
    "plt.xticks(x, list(data_details_features))\n",
    "plt.tick_params(axis='x', which='major', labelsize=10)\n",
    "plt.bar(x, list(faturamento_corelaçao))\n",
    "plt.show()"
   ]
  },
  {
   "cell_type": "markdown",
   "metadata": {},
   "source": [
    "# 4 Tarefa\n",
    "\n",
    "Aqui vamos analisar a antecedência media das reservas.\n",
    "\n",
    "O modulo datetime é excelente para fazer isso, pois permite a subtração direta entre datas. Ele ainda permite o cálculo do dia da semana com o fornecimento da data, ou seja, ideal para analisar as frequências de ocupação."
   ]
  },
  {
   "cell_type": "code",
   "execution_count": 22,
   "metadata": {},
   "outputs": [
    {
     "data": {
      "text/html": [
       "<div>\n",
       "<style scoped>\n",
       "    .dataframe tbody tr th:only-of-type {\n",
       "        vertical-align: middle;\n",
       "    }\n",
       "\n",
       "    .dataframe tbody tr th {\n",
       "        vertical-align: top;\n",
       "    }\n",
       "\n",
       "    .dataframe thead th {\n",
       "        text-align: right;\n",
       "    }\n",
       "</style>\n",
       "<table border=\"1\" class=\"dataframe\">\n",
       "  <thead>\n",
       "    <tr style=\"text-align: right;\">\n",
       "      <th></th>\n",
       "      <th>Unnamed: 0</th>\n",
       "      <th>Unnamed: 0.1</th>\n",
       "      <th>airbnb_listing_id</th>\n",
       "      <th>booked_on</th>\n",
       "      <th>date</th>\n",
       "      <th>price_string</th>\n",
       "      <th>occupied</th>\n",
       "    </tr>\n",
       "  </thead>\n",
       "  <tbody>\n",
       "    <tr>\n",
       "      <th>12</th>\n",
       "      <td>12</td>\n",
       "      <td>6452</td>\n",
       "      <td>40206270</td>\n",
       "      <td>2021-01-01 00:00:00</td>\n",
       "      <td>2021-01-01</td>\n",
       "      <td>380.0</td>\n",
       "      <td>1</td>\n",
       "    </tr>\n",
       "    <tr>\n",
       "      <th>13</th>\n",
       "      <td>13</td>\n",
       "      <td>6453</td>\n",
       "      <td>40206270</td>\n",
       "      <td>2021-01-01 00:00:00</td>\n",
       "      <td>2021-01-02</td>\n",
       "      <td>380.0</td>\n",
       "      <td>1</td>\n",
       "    </tr>\n",
       "    <tr>\n",
       "      <th>52</th>\n",
       "      <td>52</td>\n",
       "      <td>6492</td>\n",
       "      <td>40206270</td>\n",
       "      <td>2021-02-10 00:00:00</td>\n",
       "      <td>2021-02-10</td>\n",
       "      <td>195.0</td>\n",
       "      <td>1</td>\n",
       "    </tr>\n",
       "    <tr>\n",
       "      <th>53</th>\n",
       "      <td>53</td>\n",
       "      <td>6493</td>\n",
       "      <td>40206270</td>\n",
       "      <td>2021-02-10 00:00:00</td>\n",
       "      <td>2021-02-11</td>\n",
       "      <td>350.0</td>\n",
       "      <td>1</td>\n",
       "    </tr>\n",
       "    <tr>\n",
       "      <th>54</th>\n",
       "      <td>54</td>\n",
       "      <td>6494</td>\n",
       "      <td>40206270</td>\n",
       "      <td>2021-02-10 00:00:00</td>\n",
       "      <td>2021-02-12</td>\n",
       "      <td>350.0</td>\n",
       "      <td>1</td>\n",
       "    </tr>\n",
       "  </tbody>\n",
       "</table>\n",
       "</div>"
      ],
      "text/plain": [
       "    Unnamed: 0  Unnamed: 0.1  airbnb_listing_id            booked_on  \\\n",
       "12          12          6452           40206270  2021-01-01 00:00:00   \n",
       "13          13          6453           40206270  2021-01-01 00:00:00   \n",
       "52          52          6492           40206270  2021-02-10 00:00:00   \n",
       "53          53          6493           40206270  2021-02-10 00:00:00   \n",
       "54          54          6494           40206270  2021-02-10 00:00:00   \n",
       "\n",
       "          date  price_string  occupied  \n",
       "12  2021-01-01         380.0         1  \n",
       "13  2021-01-02         380.0         1  \n",
       "52  2021-02-10         195.0         1  \n",
       "53  2021-02-11         350.0         1  \n",
       "54  2021-02-12         350.0         1  "
      ]
     },
     "execution_count": 22,
     "metadata": {},
     "output_type": "execute_result"
    }
   ],
   "source": [
    "# Primeiro processamos os dados retirando \n",
    "data_price_processed = data_price[data_price[\"booked_on\"] != \"blank\"]\n",
    "\n",
    "data_price_processed.head()"
   ]
  },
  {
   "cell_type": "code",
   "execution_count": 23,
   "metadata": {},
   "outputs": [],
   "source": [
    "# Infelizmente nesse momento é necessario fazer um loop por todos os dados restantes no dataset\n",
    "# Começamos definindo as variaveis necessarias para o calculo da media\n",
    "# E depois o dicionario para a construção do histograma referente as ocupações por dia da semana\n",
    "total_days_distance = 0\n",
    "days_counter = 0\n",
    "frequencia_dia_ocupacao = {\"Segunda\": 0, \"Terça\": 0, \"Quarta\": 0, \"Quinta\":0, \"Sexta\":0, \"Sabado\":0, \"Domingo\":0}\n",
    "frequencia_dia_reservacao = {\"Segunda\": 0, \"Terça\": 0, \"Quarta\": 0, \"Quinta\":0, \"Sexta\":0, \"Sabado\":0, \"Domingo\":0}\n",
    "hash_weekday_nome = {0: \"Segunda\", 1:\"Terça\", 2:\"Quarta\", 3:\"Quinta\", 4:\"Sexta\", 5:\"Sabado\", 6:\"Domingo\"}\n",
    "\n",
    "for booking,date in zip(data_price_processed[\"booked_on\"], data_price_processed[\"date\"]):\n",
    "    \n",
    "    # Essa parte do codigo se refere a distância dos dias da reserva a data de ocupação\n",
    "    # Primeiramente processamos as datas da coluna e transformamos no objeto datetime\n",
    "    booking = booking.split(\" \")[0].split(\"-\")\n",
    "    booking = datetime.datetime(int(booking[0]), int(booking[1]), int(booking[2]))\n",
    "    date = date.split(\"-\")\n",
    "    date = datetime.datetime(int(date[0]), int(date[1]), int(date[2]))\n",
    "    \n",
    "    # Distância entre os dias e adicionar ao dicinario de contagem\n",
    "    days = (date - booking).days\n",
    "    total_days_distance = total_days_distance + days\n",
    "    days_counter = days_counter + 1\n",
    "    \n",
    "    # Obter o dia da reservacao e adicionar ao dicionario de contagem\n",
    "    weekday = hash_weekday_nome[booking.weekday()]\n",
    "    frequencia_dia_reservacao[weekday] = frequencia_dia_reservacao[weekday] + 1\n",
    "    \n",
    "    # Obter o dia de ocupaca e adicionar ao dicionario de contagem\n",
    "    weekday = hash_weekday_nome[date.weekday()]\n",
    "    frequencia_dia_ocupacao[weekday] = frequencia_dia_ocupacao[weekday] + 1\n",
    "    \n",
    "    "
   ]
  },
  {
   "cell_type": "markdown",
   "metadata": {},
   "source": [
    "Agora temos a visualização final dos dados"
   ]
  },
  {
   "cell_type": "code",
   "execution_count": 24,
   "metadata": {},
   "outputs": [
    {
     "name": "stdout",
     "output_type": "stream",
     "text": [
      "Media das datas das reservações antecipadas: 32\n"
     ]
    }
   ],
   "source": [
    "print(\"Media das datas das reservações antecipadas: \" + str(int(total_days_distance/days_counter)))"
   ]
  },
  {
   "cell_type": "code",
   "execution_count": 25,
   "metadata": {},
   "outputs": [
    {
     "data": {
      "image/png": "[encoded data removed]",
      "text/plain": [
       "<Figure size 504x504 with 1 Axes>"
      ]
     },
     "metadata": {
      "needs_background": "light"
     },
     "output_type": "display_data"
    }
   ],
   "source": [
    "x = list(range(7))\n",
    "plt.figure(figsize=(7,7))\n",
    "plt.title(\"Reservas por dia da semana\")\n",
    "plt.xlabel(\"Dia da semana\")\n",
    "plt.ylabel(\"Reservas\")\n",
    "plt.xticks(x, list(frequencia_dia_reservacao.keys()))\n",
    "plt.bar(x, list(frequencia_dia_reservacao.values()))\n",
    "plt.show()"
   ]
  },
  {
   "cell_type": "markdown",
   "metadata": {},
   "source": [
    "Nesse ultimo histograma podemos perceber que as datas de ocupação são relativamente uniformes, mas a data que os clientes mais usam para fazer a reservação é a sexta e a terça."
   ]
  },
  {
   "cell_type": "code",
   "execution_count": 26,
   "metadata": {},
   "outputs": [
    {
     "data": {
      "image/png": "[encoded data removed]",
      "text/plain": [
       "<Figure size 504x504 with 1 Axes>"
      ]
     },
     "metadata": {
      "needs_background": "light"
     },
     "output_type": "display_data"
    }
   ],
   "source": [
    "x = list(range(7))\n",
    "plt.figure(figsize=(7,7))\n",
    "plt.title(\"Reservas normalizadas por dia da semana\")\n",
    "plt.xlabel(\"Dia da semana\")\n",
    "plt.ylabel(\"Reservas normalizadas\")\n",
    "plt.xticks(x, list(frequencia_dia_reservacao.keys()))\n",
    "plt.bar(x, [i/max(frequencia_dia_reservacao.values()) for i in frequencia_dia_reservacao.values()])\n",
    "plt.show()"
   ]
  },
  {
   "cell_type": "markdown",
   "metadata": {},
   "source": [
    "O gráfico normalizado não é muito diferente do absoluto, as conclusões permanecem iguais."
   ]
  },
  {
   "cell_type": "markdown",
   "metadata": {},
   "source": [
    "Uma última análise para os dias de ocupação. Repetindo os mesmos procedimentos de visualização:"
   ]
  },
  {
   "cell_type": "code",
   "execution_count": 27,
   "metadata": {},
   "outputs": [
    {
     "name": "stdout",
     "output_type": "stream",
     "text": [
      "Segunda 23289\n",
      "Terça 23561\n",
      "Quarta 22154\n",
      "Quinta 22282\n",
      "Sexta 24053\n",
      "Sabado 25543\n",
      "Domingo 24069\n"
     ]
    },
    {
     "data": {
      "image/png": "[encoded data removed]",
      "text/plain": [
       "<Figure size 504x504 with 1 Axes>"
      ]
     },
     "metadata": {
      "needs_background": "light"
     },
     "output_type": "display_data"
    }
   ],
   "source": [
    "for day in frequencia_dia_ocupacao:\n",
    "    print(day, frequencia_dia_ocupacao[day])\n",
    "\n",
    "x = list(range(7))\n",
    "plt.figure(figsize=(7,7))\n",
    "plt.title(\"Ocupações no dia da semana\")\n",
    "plt.xlabel(\"Dia da semana\")\n",
    "plt.ylabel(\"Reservas\")\n",
    "plt.xticks(x, list(frequencia_dia_ocupacao.keys()))\n",
    "plt.bar(x, list(frequencia_dia_ocupacao.values()))\n",
    "plt.show()"
   ]
  },
  {
   "cell_type": "code",
   "execution_count": 28,
   "metadata": {},
   "outputs": [
    {
     "data": {
      "image/png": "[encoded data removed]",
      "text/plain": [
       "<Figure size 504x504 with 1 Axes>"
      ]
     },
     "metadata": {
      "needs_background": "light"
     },
     "output_type": "display_data"
    }
   ],
   "source": [
    "x = list(range(7))\n",
    "plt.figure(figsize=(7,7))\n",
    "plt.title(\"Ocupações no dia da semana\")\n",
    "plt.xlabel(\"Dia da semana\")\n",
    "plt.ylabel(\"Reservas\")\n",
    "plt.xticks(x, list(frequencia_dia_ocupacao.keys()))\n",
    "plt.bar(x, [i/max(frequencia_dia_ocupacao.values()) for i in frequencia_dia_ocupacao.values()])\n",
    "plt.show()"
   ]
  },
  {
   "cell_type": "markdown",
   "metadata": {},
   "source": [
    "Percebemos que os dias de ocupação são mais uniformes, sem muita preferência. Contudo, o sábado e domingo são vencedores por uma pequena margem."
   ]
  },
  {
   "cell_type": "code",
   "execution_count": null,
   "metadata": {},
   "outputs": [],
   "source": []
  }
 ],
 "metadata": {
  "kernelspec": {
   "display_name": "Python 3",
   "language": "python",
   "name": "python3"
  },
  "language_info": {
   "codemirror_mode": {
    "name": "ipython",
    "version": 3
   },
   "file_extension": ".py",
   "mimetype": "text/x-python",
   "name": "python",
   "nbconvert_exporter": "python",
   "pygments_lexer": "ipython3",
   "version": "3.7.3"
  }
 },
 "nbformat": 4,
 "nbformat_minor": 4
}
